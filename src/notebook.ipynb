{
 "cells": [
  {
   "cell_type": "markdown",
   "id": "bc74b84e",
   "metadata": {},
   "source": [
    "# Device discovery in the Linux /sys directory\n",
    "* [man file formats and filesystems(5)](https://manpages.debian.org/bullseye/manpages/intro.5.en.html)\n",
    "* [man sysfs.5](https://manpages.debian.org/bullseye/manpages/sysfs.5.en.html)\n",
    "  * The files under sysfs provide information about devices, kernel modules, filesystems, and other kernel components.\n",
    "  * The sysfs filesystem first appeared in Linux 2.6.0.\n",
    "* [man proc filesystem](https://manpages.debian.org/bullseye/manpages/proc.5.en.html)\n",
    "* [man udev](https://manpages.debian.org/bullseye/udev/udev.7.en.html)"
   ]
  },
  {
   "cell_type": "code",
   "execution_count": 87,
   "id": "4d416c18",
   "metadata": {},
   "outputs": [
    {
     "name": "stdout",
     "output_type": "stream",
     "text": [
      "TableDirectories.discriminant(data_frame, all_column_names) = 24×5 DataFrame\n",
      " Row │ partition  ro         size         start        stat\n",
      "     │ Union…     SubStrin…  SubStrin…    Union…       SubStrin…\n",
      "─────┼───────────────────────────────────────────────────────────────────────────────────\n",
      "   1 │            0          2097151                         10        0        4      …\n",
      "   2 │            1          203648                         573        0     7100     1…\n",
      "   3 │            1          445384                         190        0     3286     1…\n",
      "   4 │            0          0                               11        0       28      …\n",
      "   5 │            0          0                                0        0        0      …\n",
      "   6 │            0          0                                0        0        0      …\n",
      "   7 │            0          0                                0        0        0      …\n",
      "   8 │            0          0                                0        0        0      …\n",
      "   9 │            0          0                                0        0        0      …\n",
      "  10 │            0          1953525168                  153689    93685  8522369  1387…\n",
      "  11 │ 1          0          262144       2048               56        0     4160     1…\n",
      "  12 │ 10         0          703125504    652605440        4565    12944   145634    29…\n",
      "  13 │ 11         0          390723584    1355730944      10227    11940   253826    56…\n",
      "  14 │            0          15627986944                  14559    22630   370827   100…\n",
      "  15 │ 1          0          15625936896  2048            14410    22615   364402    88…\n",
      "  16 │ 2          0          2045952      15625938944        80       15     4176      …\n",
      "  17 │ 2          0          97656250     264192             56        0     4244     2…\n",
      "  18 │ 3          0          97654784     97921024         6037     2552   313146   101…\n",
      "  19 │ 4          0          39061504     195575808         396      623    15698     3…\n",
      "  20 │ 5          0          39061504     234637312       54231    18678  2378512   554…\n",
      "  21 │ 6          0          97656832     273698816       51121    34742  3473312   440…\n",
      "  22 │ 7          0          39061504     371355648       24366     8611  1881410   162…\n",
      "  23 │ 8          0          46874624     410417152          74        2     5056     1…\n",
      "  24 │ 9          0          195313664    457291776         953     3593    42010     9…\n",
      "TableDirectories.column_frequency_stats(data_frame, \"partition\") = Dict{Symbol, Real}(:rows => 24, :ratio => 12//13, :number_distinct => 12, :number_nothing => 11)\n"
     ]
    },
    {
     "name": "stderr",
     "output_type": "stream",
     "text": [
      "find: ‘/sys/kernel/tracing’: Permission denied\n",
      "find: ‘/sys/kernel/debug’: Permission denied\n",
      "find: ‘/sys/fs/pstore’: Permission denied\n",
      "find: ‘/sys/fs/bpf’: Permission denied\n",
      "WARNING: replacing module TableDirectories.\n"
     ]
    },
    {
     "data": {
      "text/plain": [
       "Dict{Symbol, Real} with 4 entries:\n",
       "  :rows            => 24\n",
       "  :ratio           => 12//13\n",
       "  :number_distinct => 12\n",
       "  :number_nothing  => 11"
      ]
     },
     "metadata": {},
     "output_type": "display_data"
    }
   ],
   "source": [
    "include(joinpath(@__DIR__, \"example_data.jl\"))"
   ]
  },
  {
   "cell_type": "code",
   "execution_count": 88,
   "id": "33c58f55",
   "metadata": {},
   "outputs": [
    {
     "data": {
      "text/plain": [
       "210-element Vector{Tuple{String, String}}:\n",
       " (\"/sys/dev/block/11:0\", \"../../devices/pci0000:00/0000:00:17.0/ata3/host2/target2:0:0/2:0:0:0/block/sr0\")\n",
       " (\"/sys/dev/block/7:0\", \"../../devices/virtual/block/loop0\")\n",
       " (\"/sys/dev/block/7:1\", \"../../devices/virtual/block/loop1\")\n",
       " (\"/sys/dev/block/7:2\", \"../../devices/virtual/block/loop2\")\n",
       " (\"/sys/dev/block/7:3\", \"../../devices/virtual/block/loop3\")\n",
       " (\"/sys/dev/block/7:4\", \"../../devices/virtual/block/loop4\")\n",
       " (\"/sys/dev/block/7:5\", \"../../devices/virtual/block/loop5\")\n",
       " (\"/sys/dev/block/7:6\", \"../../devices/virtual/block/loop6\")\n",
       " (\"/sys/dev/block/7:7\", \"../../devices/virtual/block/loop7\")\n",
       " (\"/sys/dev/block/8:0\", \"../../devices/pci0000:00/0000:00:17.0/ata1/host0/target0:0:0/0:0:0:0/block/sda\")\n",
       " ⋮\n",
       " (\"/sys/dev/char/7:5\", \"../../devices/virtual/vc/vcs5\")\n",
       " (\"/sys/dev/char/7:6\", \"../../devices/virtual/vc/vcs6\")\n",
       " (\"/sys/dev/char/7:64\", \"../../devices/virtual/vc/vcsu\")\n",
       " (\"/sys/dev/char/7:65\", \"../../devices/virtual/vc/vcsu1\")\n",
       " (\"/sys/dev/char/7:66\", \"../../devices/virtual/vc/vcsu2\")\n",
       " (\"/sys/dev/char/7:67\", \"../../devices/virtual/vc/vcsu3\")\n",
       " (\"/sys/dev/char/7:68\", \"../../devices/virtual/vc/vcsu4\")\n",
       " (\"/sys/dev/char/7:69\", \"../../devices/virtual/vc/vcsu5\")\n",
       " (\"/sys/dev/char/7:70\", \"../../devices/virtual/vc/vcsu6\")"
      ]
     },
     "metadata": {},
     "output_type": "display_data"
    }
   ],
   "source": [
    "using Glob\n",
    "devs = map(glob(glob\"*/*\", \"/sys/dev\")) do path\n",
    "    (path, readlink(path))\n",
    "end"
   ]
  },
  {
   "cell_type": "markdown",
   "id": "69838c6b",
   "metadata": {},
   "source": [
    "# Subsystems\n",
    "* how to avoid uplinks?"
   ]
  },
  {
   "cell_type": "code",
   "execution_count": 89,
   "id": "0204ffad",
   "metadata": {},
   "outputs": [
    {
     "ename": "UndefVarError",
     "evalue": "UndefVarError: find_all not defined",
     "output_type": "error",
     "traceback": [
      "UndefVarError: find_all not defined\n",
      "\n",
      "Stacktrace:\n",
      "  [1] top-level scope\n",
      "    @ /mnt/local_partition/Documents/src/julia/mine/TableDirectories/src/notebook.ipynb:6\n",
      "  [2] eval\n",
      "    @ ./boot.jl:373 [inlined]\n",
      "  [3] include_string(mapexpr::typeof(REPL.softscope), mod::Module, code::String, filename::String)\n",
      "    @ Base ./loading.jl:1196\n",
      "  [4] #invokelatest#2\n",
      "    @ ./essentials.jl:716 [inlined]\n",
      "  [5] invokelatest\n",
      "    @ ./essentials.jl:714 [inlined]\n",
      "  [6] (::VSCodeServer.var\"#150#151\"{VSCodeServer.NotebookRunCellArguments, String})()\n",
      "    @ VSCodeServer ~/.vscode/extensions/julialang.language-julia-1.5.8/scripts/packages/VSCodeServer/src/serve_notebook.jl:18\n",
      "  [7] withpath(f::VSCodeServer.var\"#150#151\"{VSCodeServer.NotebookRunCellArguments, String}, path::String)\n",
      "    @ VSCodeServer ~/.vscode/extensions/julialang.language-julia-1.5.8/scripts/packages/VSCodeServer/src/repl.jl:185\n",
      "  [8] notebook_runcell_request(conn::VSCodeServer.JSONRPC.JSONRPCEndpoint{Base.PipeEndpoint, Base.PipeEndpoint}, params::VSCodeServer.NotebookRunCellArguments)\n",
      "    @ VSCodeServer ~/.vscode/extensions/julialang.language-julia-1.5.8/scripts/packages/VSCodeServer/src/serve_notebook.jl:14\n",
      "  [9] dispatch_msg(x::VSCodeServer.JSONRPC.JSONRPCEndpoint{Base.PipeEndpoint, Base.PipeEndpoint}, dispatcher::VSCodeServer.JSONRPC.MsgDispatcher, msg::Dict{String, Any})\n",
      "    @ VSCodeServer.JSONRPC ~/.vscode/extensions/julialang.language-julia-1.5.8/scripts/packages/JSONRPC/src/typed.jl:67\n",
      " [10] serve_notebook(pipename::String; crashreporting_pipename::String)\n",
      "    @ VSCodeServer ~/.vscode/extensions/julialang.language-julia-1.5.8/scripts/packages/VSCodeServer/src/serve_notebook.jl:94\n",
      " [11] top-level scope\n",
      "    @ ~/.vscode/extensions/julialang.language-julia-1.5.8/scripts/notebook/notebook.jl:12\n",
      " [12] include(mod::Module, _path::String)\n",
      "    @ Base ./Base.jl:418\n",
      " [13] exec_options(opts::Base.JLOptions)\n",
      "    @ Base ./client.jl:292\n",
      " [14] _start()\n",
      "    @ Base ./client.jl:495"
     ]
    }
   ],
   "source": [
    "\n",
    "using Glob\n",
    "rows = map(union(glob(glob\"*/subsystem\", \"/sys/devices\"), union(glob(glob\"*/*/subsystem\", \"/sys/devices\")), union(glob(glob\"*/*/*/subsystem\", \"/sys/devices\")), union(glob(glob\"*/*/*/*/subsystem\", \"/sys/devices\")))) do path\n",
    "    (path, readlink(path))\n",
    "end\n",
    "find_all(\"/sys/devices\", \"subsystem\")"
   ]
  },
  {
   "cell_type": "code",
   "execution_count": 90,
   "id": "2d98cc52",
   "metadata": {},
   "outputs": [
    {
     "ename": "ProcessFailedException",
     "evalue": "failed process: Process(`find /sys -name subsystem -ls`, ProcessExited(1)) [1]\n",
     "output_type": "error",
     "traceback": [
      "failed process: Process(`find /sys -name subsystem -ls`, ProcessExited(1)) [1]\n",
      "\n",
      "\n",
      "Stacktrace:\n",
      "  [1] pipeline_error\n",
      "    @ ./process.jl:531 [inlined]\n",
      "  [2] (::Base.var\"#697#698\"{Base.Process})()\n",
      "    @ Base ./process.jl:320\n",
      "  [3] iterate(itr::Base.EachLine{Base.PipeEndpoint}, state::Nothing)\n",
      "    @ Base ./io.jl:1019\n",
      "  [4] _collect(cont::UnitRange{Int64}, itr::Base.EachLine{Base.PipeEndpoint}, #unused#::Base.HasEltype, isz::Base.SizeUnknown)\n",
      "    @ Base ./array.jl:661\n",
      "  [5] collect\n",
      "    @ ./array.jl:649 [inlined]\n",
      "  [6] #readlines#378\n",
      "    @ ./io.jl:553 [inlined]\n",
      "  [7] readlines(s::Cmd)\n",
      "    @ Base ./io.jl:553\n",
      "  [8] top-level scope\n",
      "    @ /mnt/local_partition/Documents/src/julia/mine/TableDirectories/src/notebook.ipynb:1\n",
      "  [9] eval\n",
      "    @ ./boot.jl:373 [inlined]\n",
      " [10] include_string(mapexpr::typeof(REPL.softscope), mod::Module, code::String, filename::String)\n",
      "    @ Base ./loading.jl:1196\n",
      " [11] #invokelatest#2\n",
      "    @ ./essentials.jl:716 [inlined]\n",
      " [12] invokelatest\n",
      "    @ ./essentials.jl:714 [inlined]\n",
      " [13] (::VSCodeServer.var\"#150#151\"{VSCodeServer.NotebookRunCellArguments, String})()\n",
      "    @ VSCodeServer ~/.vscode/extensions/julialang.language-julia-1.5.8/scripts/packages/VSCodeServer/src/serve_notebook.jl:18\n",
      " [14] withpath(f::VSCodeServer.var\"#150#151\"{VSCodeServer.NotebookRunCellArguments, String}, path::String)\n",
      "    @ VSCodeServer ~/.vscode/extensions/julialang.language-julia-1.5.8/scripts/packages/VSCodeServer/src/repl.jl:185\n",
      " [15] notebook_runcell_request(conn::VSCodeServer.JSONRPC.JSONRPCEndpoint{Base.PipeEndpoint, Base.PipeEndpoint}, params::VSCodeServer.NotebookRunCellArguments)\n",
      "    @ VSCodeServer ~/.vscode/extensions/julialang.language-julia-1.5.8/scripts/packages/VSCodeServer/src/serve_notebook.jl:14\n",
      " [16] dispatch_msg(x::VSCodeServer.JSONRPC.JSONRPCEndpoint{Base.PipeEndpoint, Base.PipeEndpoint}, dispatcher::VSCodeServer.JSONRPC.MsgDispatcher, msg::Dict{String, Any})\n",
      "    @ VSCodeServer.JSONRPC ~/.vscode/extensions/julialang.language-julia-1.5.8/scripts/packages/JSONRPC/src/typed.jl:67\n",
      " [17] serve_notebook(pipename::String; crashreporting_pipename::String)\n",
      "    @ VSCodeServer ~/.vscode/extensions/julialang.language-julia-1.5.8/scripts/packages/VSCodeServer/src/serve_notebook.jl:94\n",
      " [18] top-level scope\n",
      "    @ ~/.vscode/extensions/julialang.language-julia-1.5.8/scripts/notebook/notebook.jl:12\n",
      " [19] include(mod::Module, _path::String)\n",
      "    @ Base ./Base.jl:418\n",
      " [20] exec_options(opts::Base.JLOptions)\n",
      "    @ Base ./client.jl:292\n",
      " [21] _start()\n",
      "    @ Base ./client.jl:495"
     ]
    }
   ],
   "source": [
    "subsystems = map(readlines(`find /sys -name subsystem -ls`)) do line\n",
    "    link = line[60:end]\n",
    "    split(link, \" -> \")\n",
    "end"
   ]
  }
 ],
 "metadata": {
  "kernelspec": {
   "display_name": "Julia 1.7.0",
   "language": "julia",
   "name": "julia-1.7"
  },
  "language_info": {
   "file_extension": ".jl",
   "mimetype": "application/julia",
   "name": "julia",
   "version": "1.7.0"
  }
 },
 "nbformat": 4,
 "nbformat_minor": 5
}
