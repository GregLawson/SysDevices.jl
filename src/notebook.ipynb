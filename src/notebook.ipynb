{
 "cells": [
  {
   "cell_type": "markdown",
   "id": "bc74b84e",
   "metadata": {},
   "source": [
    "# Device discovery in the Linux /sys directory\n",
    "* [man file formats and filesystems(5)](https://manpages.debian.org/bullseye/manpages/intro.5.en.html)\n",
    "* [man sysfs.5](https://manpages.debian.org/bullseye/manpages/sysfs.5.en.html)\n",
    "  * The files under sysfs provide information about devices, kernel modules, filesystems, and other kernel components.\n",
    "  * The sysfs filesystem first appeared in Linux 2.6.0.\n",
    "* [man proc filesystem](https://manpages.debian.org/bullseye/manpages/proc.5.en.html)\n",
    "* [man udev](https://manpages.debian.org/bullseye/udev/udev.7.en.html)"
   ]
  },
  {
   "cell_type": "code",
   "execution_count": 2,
   "id": "4d416c18",
   "metadata": {},
   "outputs": [
    {
     "name": "stdout",
     "output_type": "stream",
     "text": [
      "TableDirectories.discriminant(data_frame, all_column_names) = 24×5 DataFrame\n",
      " Row │ partition  ro         size         start        stat\n",
      "     │ Union…     SubStrin…  SubStrin…    Union…       SubStrin…\n",
      "─────┼───────────────────────────────────────────────────────────────────────────────────\n",
      "   1 │            0          2097151                         10        0        4      …\n",
      "   2 │            1          203648                         573        0     7100     1…\n",
      "   3 │            1          445384                         190        0     3286     1…\n",
      "   4 │            0          0                               11        0       28      …\n",
      "   5 │            0          0                                0        0        0      …\n",
      "   6 │            0          0                                0        0        0      …\n",
      "   7 │            0          0                                0        0        0      …\n",
      "   8 │            0          0                                0        0        0      …\n",
      "   9 │            0          0                                0        0        0      …\n",
      "  10 │            0          1953525168                  215649   107960 12434928  1840…\n",
      "  11 │ 1          0          262144       2048               56        0     4160     1…\n",
      "  12 │ 10         0          703125504    652605440        4565    12944   145634    29…\n",
      "  13 │ 11         0          390723584    1355730944      11730    14493   365978    68…\n",
      "  14 │            0          15627986944                  14559    22630   370827   100…\n",
      "  15 │ 1          0          15625936896  2048            14410    22615   364402    88…\n",
      "  16 │ 2          0          2045952      15625938944        80       15     4176      …\n",
      "  17 │ 2          0          97656250     264192             56        0     4244     2…\n",
      "  18 │ 3          0          97654784     97921024         9207     3246   458738   132…\n",
      "  19 │ 4          0          39061504     195575808         774      817    32922     7…\n",
      "  20 │ 5          0          39061504     234637312       72252    22926  3900520   656…\n",
      "  21 │ 6          0          97656832     273698816       82675    40335  5237256   675…\n",
      "  22 │ 7          0          39061504     371355648       31385     9581  2232602   227…\n",
      "  23 │ 8          0          46874624     410417152          84       25     5320     1…\n",
      "  24 │ 9          0          195313664    457291776         953     3593    42010     9…\n",
      "TableDirectories.column_frequency_stats(data_frame, \"partition\") = Dict{Symbol, Real}(:rows => 24, :ratio => 12//13, :number_distinct => 12, :number_nothing => 11)\n",
      "TableDirectories.discriminant(endpoint_data_frame) = 20×297 DataFrame\n",
      " Row │ bAlternateSetting  bInterfaceClass    bInterfaceNumber   bInterfaceProtocol  bInterfaceSubClass  bNumEndpoints      driver                             ep_81/bEndpointAddress  ep_81/bInterval  ep_81/bLength  ep_81/bmAttributes  ep_81/direction  ep_81/interval  ep_81/power/async  ep_81/power/autosuspend_delay_ms  ep_81/power/control  ep_81/power/runtime_active_kids  ep_81/power/runtime_active_time  ep_81/power/runtime_enabled  ep_81/power/runtime_status  ep_81/power/runtime_suspended_time  ep_81/power/runtime_usage  ep_81/type  ep_81/uevent  ep_81/wMaxPacketSize  firmware_node                      modalias                           power/runtime_active_kids  power/runtime_enabled  power/runtime_status  uevent                             usb1-port1/connect_type  usb1-port1/device                  usb1-port1/firmware_node           usb1-port1/location  usb1-port1/over_current_count  usb1-port1/peer                    usb1-port1/power/async  usb1-port1/power/autosuspend_delay_ms  usb1-port1/power/control  usb1-port1/power/runtime_active_kids  usb1-port1/power/runtime_active_time  usb1-port1/power/runtime_enabled  usb1-port1/power/runtime_status  usb1-port1/power/runtime_suspended_time  usb1-port1/power/runtime_usage  usb1-port1/quirks  usb1-port1/uevent  usb1-port1/waiting_for_supplier  usb1-port10/connect_type  usb1-port10/firmware_node          usb1-port10/location  usb1-port10/over_current_count  usb1-port10/power/async  usb1-port10/power/autosuspend_delay_ms  usb1-port10/power/control  usb1-port10/power/runtime_active_kids  usb1-port10/power/runtime_active_time  usb1-port10/power/runtime_enabled  usb1-port10/power/runtime_status  usb1-port10/power/runtime_suspended_time  usb1-port10/power/runtime_usage  usb1-port10/quirks  usb1-port10/uevent  usb1-port10/waiting_for_supplier  usb1-port11/connect_type  usb1-port11/firmware_node          usb1-port11/location  usb1-port11/over_current_count  usb1-port11/power/async  usb1-port11/power/autosuspend_delay_ms  usb1-port11/power/control  usb1-port11/power/runtime_active_kids  usb1-port11/power/runtime_active_time  usb1-port11/power/runtime_enabled  usb1-port11/power/runtime_status  usb1-port11/power/runtime_suspended_time  usb1-port11/power/runtime_usage  usb1-port11/quirks  usb1-port11/uevent  usb1-port11/waiting_for_supplier  usb1-port12/connect_type  usb1-port12/firmware_node          usb1-port12/location  usb1-port12/over_current_count  usb1-port12/power/async  usb1-port12/power/autosuspend_delay_ms  usb1-port12/power/control  usb1-port12/power/runtime_active_kids  usb1-port12/power/runtime_active_time  usb1-port12/power/runtime_enabled  usb1-port12/power/runtime_status  usb1-port12/power/runtime_suspended_time  usb1-port12/power/runtime_usage  usb1-port12/quirks  usb1-port12/uevent  usb1-port12/waiting_for_supplier  usb1-port13/connect_type  usb1-port13/firmware_node          usb1-port13/location  usb1-port13/over_current_count  usb1-port13/power/async  usb1-port13/power/autosuspend_delay_ms  usb1-port13/power/control  usb1-port13/power/runtime_active_kids  usb1-port13/power/runtime_active_time  usb1-port13/power/runtime_enabled  usb1-port13/power/runtime_status  usb1-port13/power/runtime_suspended_time  usb1-port13/power/runtime_usage  usb1-port13/quirks  usb1-port13/uevent  usb1-port13/waiting_for_supplier  usb1-port14/connect_type  usb1-port14/device                 usb1-port14/firmware_node          usb1-port14/location  usb1-port14/over_current_count  usb1-port14/power/async  usb1-port14/power/autosuspend_delay_ms  usb1-port14/power/control  usb1-port14/power/runtime_active_kids  usb1-port14/power/runtime_active_time  usb1-port14/power/runtime_enabled  usb1-port14/power/runtime_status  usb1-port14/power/runtime_suspended_time  usb1-port14/power/runtime_usage  usb1-port14/quirks  usb1-port14/uevent  usb1-port14/waiting_for_supplier  usb1-port15/connect_type  usb1-port15/firmware_node          usb1-port15/location  usb1-port15/over_current_count  usb1-port15/power/async  usb1-port15/power/autosuspend_delay_ms  usb1-port15/power/control  usb1-port15/power/runtime_active_kids  usb1-port15/power/runtime_active_time  usb1-port15/power/runtime_enabled  usb1-port15/power/runtime_status  usb1-port15/power/runtime_suspended_time  usb1-port15/power/runtime_usage  usb1-port15/quirks  usb1-port15/uevent  usb1-port15/waiting_for_supplier  usb1-port16/connect_type  usb1-port16/firmware_node          usb1-port16/location  usb1-port16/over_current_count  usb1-port16/power/async  usb1-port16/power/autosuspend_delay_ms  usb1-port16/power/control  usb1-port16/power/runtime_active_kids  usb1-port16/power/runtime_active_time  usb1-port16/power/runtime_enabled  usb1-port16/power/runtime_status  usb1-port16/power/runtime_suspended_time  usb1-port16/power/runtime_usage  usb1-port16/quirks  usb1-port16/uevent  usb1-port16/waiting_for_supplier  usb1-port2/connect_type  usb1-port2/device                  usb1-port2/firmware_node           usb1-port2/location  usb1-port2/over_current_count  usb1-port2/peer                    usb1-port2/power/async  usb1-port2/power/autosuspend_delay_ms  usb1-port2/power/control  usb1-port2/power/runtime_active_kids  usb1-port2/power/runtime_active_time  usb1-port2/power/runtime_enabled  usb1-port2/power/runtime_status  usb1-port2/power/runtime_suspended_time  usb1-port2/power/runtime_usage  usb1-port2/quirks  usb1-port2/uevent  usb1-port2/waiting_for_supplier  usb1-port3/connect_type  usb1-port3/firmware_node           usb1-port3/location  usb1-port3/over_current_count  usb1-port3/peer                    usb1-port3/power/async  usb1-port3/power/autosuspend_delay_ms  usb1-port3/power/control  usb1-port3/power/runtime_active_kids  usb1-port3/power/runtime_active_time  usb1-port3/power/runtime_enabled  usb1-port3/power/runtime_status  usb1-port3/power/runtime_suspended_time  usb1-port3/power/runtime_usage  usb1-port3/quirks  usb1-port3/uevent  usb1-port3/waiting_for_supplier  usb1-port4/connect_type  usb1-port4/firmware_node           usb1-port4/location  usb1-port4/over_current_count  usb1-port4/power/async  usb1-port4/power/autosuspend_delay_ms  usb1-port4/power/control  usb1-port4/power/runtime_active_kids  usb1-port4/power/runtime_active_time  usb1-port4/power/runtime_enabled  usb1-port4/power/runtime_status  usb1-port4/power/runtime_suspended_time  usb1-port4/power/runtime_usage  usb1-port4/quirks  usb1-port4/uevent  usb1-port4/waiting_for_supplier  usb1-port5/connect_type  usb1-port5/firmware_node           usb1-port5/location  usb1-port5/over_current_count  usb1-port5/power/async  usb1-port5/power/autosuspend_delay_ms  usb1-port5/power/control  usb1-port5/power/runtime_active_kids  usb1-port5/power/runtime_active_time  usb1-port5/power/runtime_enabled  usb1-port5/power/runtime_status  usb1-port5/power/runtime_suspended_time  usb1-port5/power/runtime_usage  usb1-port5/quirks  usb1-port5/uevent  usb1-port5/waiting_for_supplier  usb1-port6/connect_type  usb1-port6/device                  usb1-port6/firmware_node           usb1-port6/location  usb1-port6/over_current_count  usb1-port6/power/async  usb1-port6/power/autosuspend_delay_ms  usb1-port6/power/control  usb1-port6/power/runtime_active_kids  usb1-port6/power/runtime_active_time  usb1-port6/power/runtime_enabled  usb1-port6/power/runtime_status  usb1-port6/power/runtime_suspended_time  usb1-port6/power/runtime_usage  usb1-port6/quirks  usb1-port6/uevent  usb1-port6/waiting_for_supplier  usb1-port7/connect_type  usb1-port7/device                  usb1-port7/firmware_node           usb1-port7/location  usb1-port7/over_current_count  usb1-port7/power/async  usb1-port7/power/autosuspend_delay_ms  usb1-port7/power/control  usb1-port7/power/runtime_active_kids  usb1-port7/power/runtime_active_time  usb1-port7/power/runtime_enabled  usb1-port7/power/runtime_status  usb1-port7/power/runtime_suspended_time  usb1-port7/power/runtime_usage  usb1-port7/quirks  usb1-port7/uevent  usb1-port7/waiting_for_supplier  usb1-port8/connect_type  usb1-port8/device                  usb1-port8/firmware_node           usb1-port8/location  usb1-port8/over_current_count  usb1-port8/power/async  usb1-port8/power/autosuspend_delay_ms  usb1-port8/power/control  usb1-port8/power/runtime_active_kids  usb1-port8/power/runtime_active_time  usb1-port8/power/runtime_enabled  usb1-port8/power/runtime_status  usb1-port8/power/runtime_suspended_time  usb1-port8/power/runtime_usage  usb1-port8/quirks  usb1-port8/uevent  usb1-port8/waiting_for_supplier  usb1-port9/connect_type  usb1-port9/device                  usb1-port9/firmware_node           usb1-port9/location  usb1-port9/over_current_count  usb1-port9/power/async  usb1-port9/power/autosuspend_delay_ms  usb1-port9/power/control  usb1-port9/power/runtime_active_kids  usb1-port9/power/runtime_active_time  usb1-port9/power/runtime_enabled  usb1-port9/power/runtime_status  usb1-port9/power/runtime_suspended_time  usb1-port9/power/runtime_usage  usb1-port9/quirks  usb1-port9/uevent  usb1-port9/waiting_for_supplier\n",
      "     │ SubString{String}  SubString{String}  SubString{String}  SubString{String}   SubString{String}   SubString{String}  Union…                             Union…                  Union…           Union…         Union…              Union…           Union…          Union…             Union…                            Union…               Union…                           Union…                           Union…                       Union…                      Union…                              Union…                     Union…      Union…        Union…                Union…                             SubString{String}                  SubString{String}          SubString{String}      SubString{String}     SubString{String}                  Union…                   Union…                             Union…                             Union…               Union…                         Union…                             Union…                  Union…                                 Union…                    Union…                                Union…                                Union…                            Union…                           Union…                                   Union…                          Union…             Union…             Union…                           Union…                    Union…                             Union…                Union…                          Union…                   Union…                                  Union…                     Union…                                 Union…                                 Union…                             Union…                            Union…                                    Union…                           Union…              Union…              Union…                            Union…                    Union…                             Union…                Union…                          Union…                   Union…                                  Union…                     Union…                                 Union…                                 Union…                             Union…                            Union…                                    Union…                           Union…              Union…              Union…                            Union…                    Union…                             Union…                Union…                          Union…                   Union…                                  Union…                     Union…                                 Union…                                 Union…                             Union…                            Union…                                    Union…                           Union…              Union…              Union…                            Union…                    Union…                             Union…                Union…                          Union…                   Union…                                  Union…                     Union…                                 Union…                                 Union…                             Union…                            Union…                                    Union…                           Union…              Union…              Union…                            Union…                    Union…                             Union…                             Union…                Union…                          Union…                   Union…                                  Union…                     Union…                                 Union…                                 Union…                             Union…                            Union…                                    Union…                           Union…              Union…              Union…                            Union…                    Union…                             Union…                Union…                          Union…                   Union…                                  Union…                     Union…                                 Union…                                 Union…                             Union…                            Union…                                    Union…                           Union…              Union…              Union…                            Union…                    Union…                             Union…                Union…                          Union…                   Union…                                  Union…                     Union…                                 Union…                                 Union…                             Union…                            Union…                                    Union…                           Union…              Union…              Union…                            Union…                   Union…                             Union…                             Union…               Union…                         Union…                             Union…                  Union…                                 Union…                    Union…                                Union…                                Union…                            Union…                           Union…                                   Union…                          Union…             Union…             Union…                           Union…                   Union…                             Union…               Union…                         Union…                             Union…                  Union…                                 Union…                    Union…                                Union…                                Union…                            Union…                           Union…                                   Union…                          Union…             Union…             Union…                           Union…                   Union…                             Union…               Union…                         Union…                  Union…                                 Union…                    Union…                                Union…                                Union…                            Union…                           Union…                                   Union…                          Union…             Union…             Union…                           Union…                   Union…                             Union…               Union…                         Union…                  Union…                                 Union…                    Union…                                Union…                                Union…                            Union…                           Union…                                   Union…                          Union…             Union…             Union…                           Union…                   Union…                             Union…                             Union…               Union…                         Union…                  Union…                                 Union…                    Union…                                Union…                                Union…                            Union…                           Union…                                   Union…                          Union…             Union…             Union…                           Union…                   Union…                             Union…                             Union…               Union…                         Union…                  Union…                                 Union…                    Union…                                Union…                                Union…                            Union…                           Union…                                   Union…                          Union…             Union…             Union…                           Union…                   Union…                             Union…                             Union…               Union…                         Union…                  Union…                                 Union…                    Union…                                Union…                                Union…                            Union…                           Union…                                   Union…                          Union…             Union…             Union…                           Union…                   Union…                             Union…                             Union…               Union…                         Union…                  Union…                                 Union…                    Union…                                Union…                                Union…                            Union…                           Union…                                   Union…                          Union…             Union…             Union…\n",
      "─────┼────────────────────────────────────────────────────────────────────────────────────────────────────────────────────────────────────────────────────────────────────────────────────────────────────────────────────────────────────────────────────────────────────────────────────────────────────────────────────────────────────────────────────────────────────────────────────────────────────────────────────────────────────────────────────────────────────────────────────────────────────────────────────────────────────────────────────────────────────────────────────────────────────────────────────────────────────────────────────────────────────────────────────────────────────────────────────────────────────────────────────────────────────────────────────────────────────────────────────────────────────────────────────────────────────────────────────────────────────────────────────────────────────────────────────────────────────────────────────────────────────────────────────────────────────────────────────────────────────────────────────────────────────────────────────────────────────────────────────────────────────────────────────────────────────────────────────────────────────────────────────────────────────────────────────────────────────────────────────────────────────────────────────────────────────────────────────────────────────────────────────────────────────────────────────────────────────────────────────────────────────────────────────────────────────────────────────────────────────────────────────────────────────────────────────────────────────────────────────────────────────────────────────────────────────────────────────────────────────────────────────────────────────────────────────────────────────────────────────────────────────────────────────────────────────────────────────────────────────────────────────────────────────────────────────────────────────────────────────────────────────────────────────────────────────────────────────────────────────────────────────────────────────────────────────────────────────────────────────────────────────────────────────────────────────────────────────────────────────────────────────────────────────────────────────────────────────────────────────────────────────────────────────────────────────────────────────────────────────────────────────────────────────────────────────────────────────────────────────────────────────────────────────────────────────────────────────────────────────────────────────────────────────────────────────────────────────────────────────────────────────────────────────────────────────────────────────────────────────────────────────────────────────────────────────────────────────────────────────────────────────────────────────────────────────────────────────────────────────────────────────────────────────────────────────────────────────────────────────────────────────────────────────────────────────────────────────────────────────────────────────────────────────────────────────────────────────────────────────────────────────────────────────────────────────────────────────────────────────────────────────────────────────────────────────────────────────────────────────────────────────────────────────────────────────────────────────────────────────────────────────────────────────────────────────────────────────────────────────────────────────────────────────────────────────────────────────────────────────────────────────────────────────────────────────────────────────────────────────────────────────────────────────────────────────────────────────────────────────────────────────────────────────────────────────────────────────────────────────────────────────────────────────────────────────────────────────────────────────────────────────────────────────────────────────────────────────────────────────────────────────────────────────────────────────────────────────────────────────────────────────────────────────────────────────────────────────────────────────────────────────────────────────────────────────────────────────────────────────────────────────────────────────────────────────────────────────────────────────────────────────────────────────────────────────────────────────────────────────────────────────────────────────────────────────────────────────────────────────────────────────────────────────────────────────────────────────────────────────────────────────────────────────────────────────────────────────────────────────────────────────────────────────────────────────────────────────────────────────────────────────────────────────────────────────────────────────────────────────────────────────────────────────────────────────────────────────────────────────────────────────────────────────────────────────────────────────────────────────────────────────────────────────────────────────────────────────────────────────────────────────────────────────────────────────────────────────────────────────────────────────────────────────────────────────────────────────────────────────────────────────────────────────────────────────────────────────────────────────────────────────────────────────────────────────────────────────────────────────────────────────────────────────────────────────────────────────────────────────────────────────────────────────────────────────────────────────────────────────────────────────────────────────────────────────────────────────────────────────────────────────────────────────────────────────────────────────────────────────────────────────────────────────────────────────────────────────────────────────────────────────────────────────────────────────────────────────────────────────────────────────────────────────────────────────────────────────────────────────────────────────────────────────────────────────────────────────────────────────────────────────────────────────────────────────────────────────────────────────────────────────────────────────────────────────────────────────────────────────────────────────────────────────────────────────────────────────────────────────────────────────────────────────────────────────────────────────────────────────────────────────────────────────────────────────────────────────────────────────────────────────────────────────────────────────────────────────────────────────────────────────────────────────────────────────────────────────────────────────────────────────────────────────────────────────────────────────────────────────────────────────────────────────────────────────────────────────────────────────────────────────────────────────────────────────────────────────────────────────────────────────────────────────────────────────────────────────────────────────────────────────────────────────────────────────────────────────────────────────────────────────────────────────────────────────────────────────────────────────────────────────────────────────────────────────────────────────────────────────────────────────────────────────────────────────────────────────────────────────────────────────────────────────────────────────────────────────────────────────────────────────────────────────────────────────────────────────────────────────────────────────────────────────────────────────────────────────────────────────────────────────────────────────────────────────────────────────────────────────────────────────────────────────────────────────────────────────────────────────────────────────────────────────────────────────────────────────────────────────────────────────────────────────────────────────────────────────────────────────────────────────────────────────────────────────────────────────────────────────────────────────────────────────────────────────────────────────────────────────────────────────────────────────────────────────────────────────────────────────────────────────────────────────────────────────────────────────────────────────────────────────────────────────────────────────────────────────────────────────────────────────────────────────────────────────────────────────────────────────────────────────────────────────────────────────────────────────────────────────────────────────────────────────────────────────────────────────────────────────────────────────────────────────────────────────────────────────────────────────────────────────────────────────────────────────────────────────────────────────────────────────────────────────────────────────────────────────────────────────────────────────────────────────────────────────────────────────────────────────────────────────────────────────────────────────────────────────────────────────────────────────────────────────────────────────────────────────────────────────────────────────────────────────────────────────────────────────────────────────────────────────────────────────────────────────────────────────────────────────────────────────────────────────────────────────────────────────────────────────────────────────────────────────────────────────────────────\n",
      "   1 │  0                 09                 00                 00                  00                  01                 /sys/bus/usb/drivers/hub           81                      0c               07             03                  in               256ms           enabled                                              auto                 0                                0                                disabled                     unsupported                 0                                   0                          Interrupt                 0004                  /sys/devices/LNXSYSTM:00/LNXSYBU…  usb:v1D6Bp0002d0515dc09dsc00dp01…  0                          enabled                suspended             DEVTYPE=usb_interface\\nDRIVER=hu…  hotplug                  /sys/devices/pci0000:00/0000:00:…  /sys/devices/LNXSYSTM:00/LNXSYBU…  0x80000001           0                              /sys/devices/pci0000:00/0000:00:…  enabled                                                        auto                      0                                     210144566                             enabled                           active                           0                                        1                               00000000                              0                                not used                  /sys/devices/LNXSYSTM:00/LNXSYBU…  0x80000000            0                               enabled                                                          auto                       0                                      210144564                              enabled                            active                            0                                         0                                00000000                                0                                 not used                  /sys/devices/LNXSYSTM:00/LNXSYBU…  0x80000000            0                               enabled                                                          auto                       0                                      210144564                              enabled                            active                            0                                         0                                00000000                                0                                 not used                  /sys/devices/LNXSYSTM:00/LNXSYBU…  0x80000000            0                               enabled                                                          auto                       0                                      210144564                              enabled                            active                            0                                         0                                00000000                                0                                 not used                  /sys/devices/LNXSYSTM:00/LNXSYBU…  0x80000000            0                               enabled                                                          auto                       0                                      210144563                              enabled                            active                            0                                         0                                00000000                                0                                 hardwired                 /sys/devices/pci0000:00/0000:00:…  /sys/devices/LNXSYSTM:00/LNXSYBU…  0x80000008            0                               enabled                                                          auto                       0                                      210144564                              enabled                            active                            0                                         1                                00000000                                0                                 not used                  /sys/devices/LNXSYSTM:00/LNXSYBU…  0x80000000            0                               enabled                                                          auto                       0                                      210144563                              enabled                            active                            0                                         0                                00000000                                0                                 not used                  /sys/devices/LNXSYSTM:00/LNXSYBU…  0x80000000            0                               enabled                                                          auto                       0                                      210144563                              enabled                            active                            0                                         0                                00000000                                0                                 hotplug                  /sys/devices/pci0000:00/0000:00:…  /sys/devices/LNXSYSTM:00/LNXSYBU…  0x80000002           0                              /sys/devices/pci0000:00/0000:00:…  enabled                                                        auto                      0                                     210144568                             enabled                           active                           0                                        1                               00000000                              0                                not used                 /sys/devices/LNXSYSTM:00/LNXSYBU…  0x80000000           0                              /sys/devices/pci0000:00/0000:00:…  enabled                                                        auto                      0                                     210144568                             enabled                           active                           0                                        0                               00000000                              0                                not used                 /sys/devices/LNXSYSTM:00/LNXSYBU…  0x80000000           0                              enabled                                                        auto                      0                                     210144568                             enabled                           active                           0                                        0                               00000000                              0                                hotplug                  /sys/devices/LNXSYSTM:00/LNXSYBU…  0x80000003           0                              enabled                                                        auto                      0                                     210144567                             enabled                           active                           0                                        0                               00000000                              0                                hotplug                  /sys/devices/pci0000:00/0000:00:…  /sys/devices/LNXSYSTM:00/LNXSYBU…  0x80000004           0                              enabled                                                        auto                      0                                     210144567                             enabled                           active                           0                                        1                               00000000                              0                                hotplug                  /sys/devices/pci0000:00/0000:00:…  /sys/devices/LNXSYSTM:00/LNXSYBU…  0x80000005           0                              enabled                                                        auto                      0                                     210144567                             enabled                           active                           0                                        1                               00000000                              0                                hardwired                /sys/devices/pci0000:00/0000:00:…  /sys/devices/LNXSYSTM:00/LNXSYBU…  0x80000006           0                              enabled                                                        auto                      0                                     210144567                             enabled                           active                           0                                        1                               00000000                              0                                hotplug                  /sys/devices/pci0000:00/0000:00:…  /sys/devices/LNXSYSTM:00/LNXSYBU…  0x80000007           0                              enabled                                                        auto                      0                                     210144567                             enabled                           active                           0                                        1                               00000000                              0\n",
      "   2 │  0                 e0                 00                 01                  01                  03                                                    81                      01               07             03                  in               1ms             enabled                                              auto                 0                                0                                disabled                     unsupported                 0                                   0                          Interrupt                 0010                  /sys/devices/LNXSYSTM:00/LNXSYBU…  usb:v0CF3pE005d0001dcE0dsc01dp01…  0                          disabled               unsupported           DEVTYPE=usb_interface\\nPRODUCT=c…\n",
      "   3 │  0                 e0                 01                 01                  01                  02                                                                                                                                                                                                                                                                                                                                                                                                                                                                                     /sys/devices/LNXSYSTM:00/LNXSYBU…  usb:v0CF3pE005d0001dcE0dsc01dp01…  0                          disabled               unsupported           DEVTYPE=usb_interface\\nPRODUCT=c…\n",
      "   4 │  0                 09                 00                 00                  00                  01                 /sys/bus/usb/drivers/hub           81                      ff               07             03                  in               255ms           enabled                                              auto                 0                                0                                disabled                     unsupported                 0                                   0                          Interrupt                 0001                  /sys/devices/LNXSYSTM:00/LNXSYBU…  usb:v05E3p0606d0702dc09dsc00dp00…  0                          enabled                suspended             DEVTYPE=usb_interface\\nDRIVER=hu…\n",
      "   5 │  0                 09                 00                 00                  00                  01                 /sys/bus/usb/drivers/hub           81                      0c               07             03                  in               256ms           enabled                                              auto                 0                                0                                disabled                     unsupported                 0                                   0                          Interrupt                 0001                                                     usb:v1A40p0101d0111dc09dsc00dp01…  0                          enabled                suspended             DEVTYPE=usb_interface\\nDRIVER=hu…\n",
      "   6 │  0                 09                 00                 00                  00                  01                 /sys/bus/usb/drivers/hub           81                      0c               07             03                  in               256ms           enabled                                              auto                 0                                0                                disabled                     unsupported                 0                                   0                          Interrupt                 0001                  /sys/devices/LNXSYSTM:00/LNXSYBU…  usb:v1A40p0101d0111dc09dsc00dp01…  0                          enabled                suspended             DEVTYPE=usb_interface\\nDRIVER=hu…\n",
      "   7 │  0                 03                 00                 02                  01                  01                 /sys/bus/usb/drivers/usbhid        81                      0a               07             03                  in               10ms            enabled                                              auto                 0                                0                                disabled                     unsupported                 0                                   0                          Interrupt                 0008                                                     usb:v046DpC408d1400dc00dsc00dp00…  0                          enabled                suspended             DEVTYPE=usb_interface\\nDRIVER=us…\n",
      "   8 │  0                 01                 00                 00                  01                  00                 /sys/bus/usb/drivers/snd-usb-aud…                                                                                                                                                                                                                                                                                                                                                                                                                                                                      usb:v8086p0808d0100dc00dsc00dp00…  0                          enabled                suspended             DEVTYPE=usb_interface\\nDRIVER=sn…\n",
      "   9 │  0                 01                 01                 00                  02                  00                 /sys/bus/usb/drivers/snd-usb-aud…                                                                                                                                                                                                                                                                                                                                                                                                                                                                      usb:v8086p0808d0100dc00dsc00dp00…  0                          enabled                suspended             DEVTYPE=usb_interface\\nDRIVER=sn…\n",
      "  10 │  0                 01                 02                 00                  02                  00                 /sys/bus/usb/drivers/snd-usb-aud…                                                                                                                                                                                                                                                                                                                                                                                                                                                                      usb:v8086p0808d0100dc00dsc00dp00…  0                          enabled                suspended             DEVTYPE=usb_interface\\nDRIVER=sn…\n",
      "  11 │  0                 03                 03                 00                  00                  01                 /sys/bus/usb/drivers/usbhid                                                                                                                                                                                                                                                                                                                                                                                                                                                                            usb:v8086p0808d0100dc00dsc00dp00…  0                          enabled                suspended             DEVTYPE=usb_interface\\nDRIVER=us…\n",
      "  12 │  0                 03                 00                 01                  01                  01                 /sys/bus/usb/drivers/usbhid        81                      0a               07             03                  in               10ms            enabled                                              auto                 0                                0                                disabled                     unsupported                 0                                   0                          Interrupt                 0008                                                     usb:v1A2Cp0021d0110dc00dsc00dp00…  0                          enabled                suspended             DEVTYPE=usb_interface\\nDRIVER=us…\n",
      "  13 │  0                 03                 01                 00                  00                  01                 /sys/bus/usb/drivers/usbhid                                                                                                                                                                                                                                                                                                                                                                                                                                                                            usb:v1A2Cp0021d0110dc00dsc00dp00…  0                          enabled                suspended             DEVTYPE=usb_interface\\nDRIVER=us…\n",
      "  14 │  0                 09                 00                 00                  00                  01                 /sys/bus/usb/drivers/hub           81                      0c               07             03                  in               256ms           enabled                                              auto                 0                                0                                disabled                     unsupported                 0                                   0                          Interrupt                 0001                  /sys/devices/LNXSYSTM:00/LNXSYBU…  usb:v1A40p0101d0111dc09dsc00dp01…  0                          enabled                suspended             DEVTYPE=usb_interface\\nDRIVER=hu…\n",
      "  15 │  0                 08                 00                 50                  06                  02                 /sys/bus/usb/drivers/usb-storage   81                      00               07             02                  in               0ms             enabled                                              auto                 0                                0                                disabled                     unsupported                 0                                   0                          Bulk                      0200                  /sys/devices/LNXSYSTM:00/LNXSYBU…  usb:v1058p25A3d1019dc00dsc00dp00…  1                          enabled                active                DEVTYPE=usb_interface\\nDRIVER=us…\n",
      "  16 │  0                 ff                 00                 50                  06                  03                 /sys/bus/usb/drivers/rtsx_usb                                                                                  "
     ]
    },
    {
     "name": "stdout",
     "output_type": "stream",
     "text": [
      "                                                                                                                                                                                                                                                                                                                                                     /sys/devices/LNXSYSTM:00/LNXSYBU…  usb:v0BDAp0129d3960dcFFdscFFdpFF…  0                          enabled                suspended             DEVTYPE=usb_interface\\nDRIVER=rt…\n",
      "  17 │  1                 07                 00                 04                  01                  02                 /sys/bus/usb/drivers/usbfs                                                                                                                                                                                                                                                                                                                                                                                                                                          /sys/devices/LNXSYSTM:00/LNXSYBU…  usb:v04F9p0434d0100dc00dsc00dp00…  0                          enabled                suspended             DEVTYPE=usb_interface\\nDRIVER=us…\n",
      "  18 │  1                 07                 01                 04                  01                  02                 /sys/bus/usb/drivers/usbfs                                                                                                                                                                                                                                                                                                                                                                                                                                          /sys/devices/LNXSYSTM:00/LNXSYBU…  usb:v04F9p0434d0100dc00dsc00dp00…  0                          enabled                suspended             DEVTYPE=usb_interface\\nDRIVER=us…\n",
      "  19 │  0                 ff                 02                 ff                  ff                  02                                                                                                                                                                                                                                                                                                                                                                                                                                                                                     /sys/devices/LNXSYSTM:00/LNXSYBU…  usb:v04F9p0434d0100dc00dsc00dp00…  0                          disabled               unsupported           DEVTYPE=usb_interface\\nPRODUCT=4…\n",
      "  20 │  0                 09                 00                 00                  00                  01                 /sys/bus/usb/drivers/hub           81                      0c               07             03                  in               256ms           enabled                                              auto                 0                                0                                disabled                     unsupported                 0                                   0                          Interrupt                 0004                  /sys/devices/LNXSYSTM:00/LNXSYBU…  usb:v1D6Bp0003d0515dc09dsc00dp03…  0                          enabled                suspended             DEVTYPE=usb_interface\\nDRIVER=hu…\n"
     ]
    },
    {
     "data": {
      "text/html": [
       "<div class=\"data-frame\"><p>20 rows × 297 columns (omitted printing of 292 columns)</p><table class=\"data-frame\"><thead><tr><th></th><th>bAlternateSetting</th><th>bInterfaceClass</th><th>bInterfaceNumber</th><th>bInterfaceProtocol</th><th>bInterfaceSubClass</th></tr><tr><th></th><th title=\"SubString{String}\">SubStrin…</th><th title=\"SubString{String}\">SubStrin…</th><th title=\"SubString{String}\">SubStrin…</th><th title=\"SubString{String}\">SubStrin…</th><th title=\"SubString{String}\">SubStrin…</th></tr></thead><tbody><tr><th>1</th><td> 0</td><td>09</td><td>00</td><td>00</td><td>00</td></tr><tr><th>2</th><td> 0</td><td>e0</td><td>00</td><td>01</td><td>01</td></tr><tr><th>3</th><td> 0</td><td>e0</td><td>01</td><td>01</td><td>01</td></tr><tr><th>4</th><td> 0</td><td>09</td><td>00</td><td>00</td><td>00</td></tr><tr><th>5</th><td> 0</td><td>09</td><td>00</td><td>00</td><td>00</td></tr><tr><th>6</th><td> 0</td><td>09</td><td>00</td><td>00</td><td>00</td></tr><tr><th>7</th><td> 0</td><td>03</td><td>00</td><td>02</td><td>01</td></tr><tr><th>8</th><td> 0</td><td>01</td><td>00</td><td>00</td><td>01</td></tr><tr><th>9</th><td> 0</td><td>01</td><td>01</td><td>00</td><td>02</td></tr><tr><th>10</th><td> 0</td><td>01</td><td>02</td><td>00</td><td>02</td></tr><tr><th>11</th><td> 0</td><td>03</td><td>03</td><td>00</td><td>00</td></tr><tr><th>12</th><td> 0</td><td>03</td><td>00</td><td>01</td><td>01</td></tr><tr><th>13</th><td> 0</td><td>03</td><td>01</td><td>00</td><td>00</td></tr><tr><th>14</th><td> 0</td><td>09</td><td>00</td><td>00</td><td>00</td></tr><tr><th>15</th><td> 0</td><td>08</td><td>00</td><td>50</td><td>06</td></tr><tr><th>16</th><td> 0</td><td>ff</td><td>00</td><td>50</td><td>06</td></tr><tr><th>17</th><td> 1</td><td>07</td><td>00</td><td>04</td><td>01</td></tr><tr><th>18</th><td> 1</td><td>07</td><td>01</td><td>04</td><td>01</td></tr><tr><th>19</th><td> 0</td><td>ff</td><td>02</td><td>ff</td><td>ff</td></tr><tr><th>20</th><td> 0</td><td>09</td><td>00</td><td>00</td><td>00</td></tr></tbody></table></div>"
      ],
      "text/latex": [
       "\\begin{tabular}{r|cccccc}\n",
       "\t& bAlternateSetting & bInterfaceClass & bInterfaceNumber & bInterfaceProtocol & bInterfaceSubClass & \\\\\n",
       "\t\\hline\n",
       "\t& SubStrin… & SubStrin… & SubStrin… & SubStrin… & SubStrin… & \\\\\n",
       "\t\\hline\n",
       "\t1 &  0 & 09 & 00 & 00 & 00 & $\\dots$ \\\\\n",
       "\t2 &  0 & e0 & 00 & 01 & 01 & $\\dots$ \\\\\n",
       "\t3 &  0 & e0 & 01 & 01 & 01 & $\\dots$ \\\\\n",
       "\t4 &  0 & 09 & 00 & 00 & 00 & $\\dots$ \\\\\n",
       "\t5 &  0 & 09 & 00 & 00 & 00 & $\\dots$ \\\\\n",
       "\t6 &  0 & 09 & 00 & 00 & 00 & $\\dots$ \\\\\n",
       "\t7 &  0 & 03 & 00 & 02 & 01 & $\\dots$ \\\\\n",
       "\t8 &  0 & 01 & 00 & 00 & 01 & $\\dots$ \\\\\n",
       "\t9 &  0 & 01 & 01 & 00 & 02 & $\\dots$ \\\\\n",
       "\t10 &  0 & 01 & 02 & 00 & 02 & $\\dots$ \\\\\n",
       "\t11 &  0 & 03 & 03 & 00 & 00 & $\\dots$ \\\\\n",
       "\t12 &  0 & 03 & 00 & 01 & 01 & $\\dots$ \\\\\n",
       "\t13 &  0 & 03 & 01 & 00 & 00 & $\\dots$ \\\\\n",
       "\t14 &  0 & 09 & 00 & 00 & 00 & $\\dots$ \\\\\n",
       "\t15 &  0 & 08 & 00 & 50 & 06 & $\\dots$ \\\\\n",
       "\t16 &  0 & ff & 00 & 50 & 06 & $\\dots$ \\\\\n",
       "\t17 &  1 & 07 & 00 & 04 & 01 & $\\dots$ \\\\\n",
       "\t18 &  1 & 07 & 01 & 04 & 01 & $\\dots$ \\\\\n",
       "\t19 &  0 & ff & 02 & ff & ff & $\\dots$ \\\\\n",
       "\t20 &  0 & 09 & 00 & 00 & 00 & $\\dots$ \\\\\n",
       "\\end{tabular}\n"
      ],
      "text/plain": [
       "\u001b[1m20×297 DataFrame\u001b[0m\n",
       "\u001b[1m Row \u001b[0m│\u001b[1m bAlternateSetting \u001b[0m\u001b[1m bInterfaceClass   \u001b[0m\u001b[1m bInterfaceNumber  \u001b[0m\u001b[1m bInterfaceProt\u001b[0m ⋯\n",
       "\u001b[1m     \u001b[0m│\u001b[90m SubString{String} \u001b[0m\u001b[90m SubString{String} \u001b[0m\u001b[90m SubString{String} \u001b[0m\u001b[90m SubString{Stri\u001b[0m ⋯\n",
       "─────┼──────────────────────────────────────────────────────────────────────────\n",
       "   1 │  0                 09                 00                 00             ⋯\n",
       "   2 │  0                 e0                 00                 01\n",
       "   3 │  0                 e0                 01                 01\n",
       "   4 │  0                 09                 00                 00\n",
       "   5 │  0                 09                 00                 00             ⋯\n",
       "   6 │  0                 09                 00                 00\n",
       "   7 │  0                 03                 00                 02\n",
       "   8 │  0                 01                 00                 00\n",
       "  ⋮  │         ⋮                  ⋮                  ⋮                  ⋮      ⋱\n",
       "  14 │  0                 09                 00                 00             ⋯\n",
       "  15 │  0                 08                 00                 50\n",
       "  16 │  0                 ff                 00                 50\n",
       "  17 │  1                 07                 00                 04\n",
       "  18 │  1                 07                 01                 04             ⋯\n",
       "  19 │  0                 ff                 02                 ff\n",
       "  20 │  0                 09                 00                 00\n",
       "\u001b[36m                                                  294 columns and 5 rows omitted\u001b[0m"
      ]
     },
     "metadata": {},
     "output_type": "display_data"
    }
   ],
   "source": [
    "include(joinpath(@__DIR__, \"example_data.jl\"))"
   ]
  },
  {
   "cell_type": "code",
   "execution_count": 36,
   "id": "dccfe263",
   "metadata": {},
   "outputs": [
    {
     "data": {
      "text/plain": [
       "39-element Vector{Tuple{Vector{SubString{String}}, String, String}}:\n",
       " ([\"1-0\", \"1.0\"], \"81\", \"1-0:1.0\")\n",
       " ([\"1-1\"], \"00\", \"1-1\")\n",
       " ([\"1-1\", \"1.0\"], \"81\", \"1-1:1.0\")\n",
       " ([\"1-14\"], \"00\", \"1-14\")\n",
       " ([\"1-14\", \"1.0\"], \"02\", \"1-14:1.0\")\n",
       " ([\"1-14\", \"1.0\"], \"81\", \"1-14:1.0\")\n",
       " ([\"1-14\", \"1.0\"], \"82\", \"1-14:1.0\")\n",
       " ([\"1-14\", \"1.1\"], \"03\", \"1-14:1.1\")\n",
       " ([\"1-14\", \"1.1\"], \"83\", \"1-14:1.1\")\n",
       " ([\"1-2\"], \"00\", \"1-2\")\n",
       " ⋮\n",
       " ([\"1-9\", \"1.0\"], \"01\", \"1-9:1.0\")\n",
       " ([\"1-9\", \"1.0\"], \"82\", \"1-9:1.0\")\n",
       " ([\"1-9\", \"1.1\"], \"03\", \"1-9:1.1\")\n",
       " ([\"1-9\", \"1.1\"], \"84\", \"1-9:1.1\")\n",
       " ([\"1-9\", \"1.2\"], \"05\", \"1-9:1.2\")\n",
       " ([\"1-9\", \"1.2\"], \"86\", \"1-9:1.2\")\n",
       " ([\"2-0\", \"1.0\"], \"81\", \"2-0:1.0\")\n",
       " ([\"usb1\"], \"00\", \"usb1\")\n",
       " ([\"usb2\"], \"00\", \"usb2\")"
      ]
     },
     "metadata": {},
     "output_type": "display_data"
    }
   ],
   "source": [
    "endpoint_numbering = sort(map(glob(glob\"*/ep*/bEndpointAddress\", \"/sys/bus/usb/devices/\")) do path\n",
    "    filename, endpoint = splitpath(path)[6:7]\n",
    "    device = split(filename, \":\")\n",
    "    (device, endpoint[4:5], filename)\n",
    "end)\n",
    "#endpoint_numbering[2]"
   ]
  },
  {
   "cell_type": "code",
   "execution_count": 67,
   "id": "910e5882",
   "metadata": {},
   "outputs": [
    {
     "data": {
      "text/plain": [
       "11-element Vector{Vector{SubString{String}}}:\n",
       " [\"usb1\", \"1-9\", \"port -> ..\", \"1-0:1.0\", \"usb1-port9\"]\n",
       " [\"usb1\", \"1-14\", \"port -> ..\", \"1-0:1.0\", \"usb1-port14\"]\n",
       " [\"usb1\", \"1-7\", \"port -> ..\", \"1-0:1.0\", \"usb1-port7\"]\n",
       " [\"usb1\", \"1-1\", \"port -> ..\", \"1-0:1.0\", \"usb1-port1\"]\n",
       " [\"usb1\", \"1-8\", \"port -> ..\", \"1-0:1.0\", \"usb1-port8\"]\n",
       " [\"usb1\", \"1-6\", \"port -> ..\", \"1-0:1.0\", \"usb1-port6\"]\n",
       " [\"usb1\", \"1-6\", \"1-6.2\", \"port -> ..\", \"1-6:1.0\", \"1-6-port2\"]\n",
       " [\"usb1\", \"1-6\", \"1-6.3\", \"port -> ..\", \"1-6:1.0\", \"1-6-port3\"]\n",
       " [\"usb1\", \"1-6\", \"1-6.1\", \"port -> ..\", \"1-6:1.0\", \"1-6-port1\"]\n",
       " [\"usb1\", \"1-2\", \"1-2.1\", \"port -> ..\", \"1-2:1.0\", \"1-2-port1\"]\n",
       " [\"usb1\", \"1-2\", \"port -> ..\", \"1-0:1.0\", \"usb1-port2\"]"
      ]
     },
     "metadata": {},
     "output_type": "display_data"
    }
   ],
   "source": [
    "using Test\n",
    "ports = map(readlines(`find /sys/devices/pci0000\\:00/0000\\:00\\:14.0/ -name port -ls`)) do line\n",
    "    parts = split(line[110:end], \"/\")\n",
    "    bus, insertion = split(parts[2], \"-\")\n",
    "    @test bus ==  parts[1][4:4]\n",
    "    #@test bus == parts[4][1:1]\n",
    "    @test bus == parts[2][1:1]\n",
    "    parts\n",
    "end"
   ]
  },
  {
   "cell_type": "code",
   "execution_count": 25,
   "id": "e663c4e2",
   "metadata": {},
   "outputs": [
    {
     "data": {
      "text/plain": [
       "284-element Vector{Tuple{Int64, String}}:\n",
       " (1, \"authorized\")\n",
       " (1, \"power/async\")\n",
       " (1, \"power/runtime_usage\")\n",
       " (1, \"subsystem\")\n",
       " (1, \"supports_autosuspend\")\n",
       " (2, \"bAlternateSetting\")\n",
       " (2, \"power/runtime_active_kids\")\n",
       " (2, \"power/runtime_enabled\")\n",
       " (2, \"usb1-port1/connect_type\")\n",
       " (2, \"usb1-port1/device\")\n",
       " ⋮\n",
       " (4, \"bInterfaceNumber\")\n",
       " (4, \"bNumEndpoints\")\n",
       " (5, \"bInterfaceSubClass\")\n",
       " (6, \"bInterfaceProtocol\")\n",
       " (7, \"bInterfaceClass\")\n",
       " (7, \"driver\")\n",
       " (9, \"firmware_node\")\n",
       " (18, \"modalias\")\n",
       " (18, \"uevent\")"
      ]
     },
     "metadata": {},
     "output_type": "display_data"
    }
   ],
   "source": [
    "pairs = map(names(endpoint_data_frame)) do column_name\n",
    "    (TableDirectories.column_frequency_stats(endpoint_data_frame, column_name)[:number_distinct], column_name)\n",
    "end\n",
    "filter(sort(pairs)) do pair\n",
    "    pair[2][1:3] !== \"ep_\"\n",
    "end"
   ]
  },
  {
   "cell_type": "code",
   "execution_count": 24,
   "id": "9266e308",
   "metadata": {},
   "outputs": [
    {
     "data": {
      "text/html": [
       "<div class=\"data-frame\"><p>10 rows × 3 columns</p><table class=\"data-frame\"><thead><tr><th></th><th>driver</th><th>bInterfaceClass</th><th>bInterfaceProtocol</th></tr><tr><th></th><th title=\"Union{Nothing, String}\">Union…</th><th title=\"SubString{String}\">SubStrin…</th><th title=\"SubString{String}\">SubStrin…</th></tr></thead><tbody><tr><th>1</th><td>/sys/bus/usb/drivers/hub</td><td>09</td><td>00</td></tr><tr><th>2</th><td></td><td>e0</td><td>01</td></tr><tr><th>3</th><td>/sys/bus/usb/drivers/usbhid</td><td>03</td><td>02</td></tr><tr><th>4</th><td>/sys/bus/usb/drivers/snd-usb-audio</td><td>01</td><td>00</td></tr><tr><th>5</th><td>/sys/bus/usb/drivers/usbhid</td><td>03</td><td>00</td></tr><tr><th>6</th><td>/sys/bus/usb/drivers/usbhid</td><td>03</td><td>01</td></tr><tr><th>7</th><td>/sys/bus/usb/drivers/usb-storage</td><td>08</td><td>50</td></tr><tr><th>8</th><td>/sys/bus/usb/drivers/rtsx_usb</td><td>ff</td><td>50</td></tr><tr><th>9</th><td>/sys/bus/usb/drivers/usbfs</td><td>07</td><td>04</td></tr><tr><th>10</th><td></td><td>ff</td><td>ff</td></tr></tbody></table></div>"
      ],
      "text/latex": [
       "\\begin{tabular}{r|ccc}\n",
       "\t& driver & bInterfaceClass & bInterfaceProtocol\\\\\n",
       "\t\\hline\n",
       "\t& Union… & SubStrin… & SubStrin…\\\\\n",
       "\t\\hline\n",
       "\t1 & /sys/bus/usb/drivers/hub & 09 & 00 \\\\\n",
       "\t2 &  & e0 & 01 \\\\\n",
       "\t3 & /sys/bus/usb/drivers/usbhid & 03 & 02 \\\\\n",
       "\t4 & /sys/bus/usb/drivers/snd-usb-audio & 01 & 00 \\\\\n",
       "\t5 & /sys/bus/usb/drivers/usbhid & 03 & 00 \\\\\n",
       "\t6 & /sys/bus/usb/drivers/usbhid & 03 & 01 \\\\\n",
       "\t7 & /sys/bus/usb/drivers/usb-storage & 08 & 50 \\\\\n",
       "\t8 & /sys/bus/usb/drivers/rtsx\\_usb & ff & 50 \\\\\n",
       "\t9 & /sys/bus/usb/drivers/usbfs & 07 & 04 \\\\\n",
       "\t10 &  & ff & ff \\\\\n",
       "\\end{tabular}\n"
      ],
      "text/plain": [
       "\u001b[1m10×3 DataFrame\u001b[0m\n",
       "\u001b[1m Row \u001b[0m│\u001b[1m driver                            \u001b[0m\u001b[1m bInterfaceClass \u001b[0m\u001b[1m bInterfaceProtocol \u001b[0m\n",
       "\u001b[1m     \u001b[0m│\u001b[90m Union…                            \u001b[0m\u001b[90m SubString…      \u001b[0m\u001b[90m SubString…         \u001b[0m\n",
       "─────┼────────────────────────────────────────────────────────────────────────\n",
       "   1 │ /sys/bus/usb/drivers/hub           09               00\n",
       "   2 │\u001b[90m                                   \u001b[0m e0               01\n",
       "   3 │ /sys/bus/usb/drivers/usbhid        03               02\n",
       "   4 │ /sys/bus/usb/drivers/snd-usb-aud…  01               00\n",
       "   5 │ /sys/bus/usb/drivers/usbhid        03               00\n",
       "   6 │ /sys/bus/usb/drivers/usbhid        03               01\n",
       "   7 │ /sys/bus/usb/drivers/usb-storage   08               50\n",
       "   8 │ /sys/bus/usb/drivers/rtsx_usb      ff               50\n",
       "   9 │ /sys/bus/usb/drivers/usbfs         07               04\n",
       "  10 │\u001b[90m                                   \u001b[0m ff               ff"
      ]
     },
     "metadata": {},
     "output_type": "display_data"
    }
   ],
   "source": [
    "unique(endpoint_data_frame[!, [\"driver\", \"bInterfaceClass\", \"bInterfaceProtocol\"]])"
   ]
  },
  {
   "cell_type": "code",
   "execution_count": 22,
   "id": "f653b013",
   "metadata": {},
   "outputs": [
    {
     "ename": "ArgumentError",
     "evalue": "ArgumentError: cell name :product not found in the data frame",
     "output_type": "error",
     "traceback": [
      "ArgumentError: cell name :product not found in the data frame\n",
      "\n",
      "Stacktrace:\n",
      "  [1] lookupname\n",
      "    @ ~/.julia/packages/DataFrames/BM4OQ/src/other/index.jl:392 [inlined]\n",
      "  [2] getindex\n",
      "    @ ~/.julia/packages/DataFrames/BM4OQ/src/other/index.jl:401 [inlined]\n",
      "  [3] getindex\n",
      "    @ ~/.julia/packages/DataFrames/BM4OQ/src/other/index.jl:402 [inlined]\n",
      "  [4] (::DataFrames.var\"#35#36\"{DataFrames.Index})(i::String)\n",
      "    @ DataFrames ./none:0\n",
      "  [5] iterate\n",
      "    @ ./generator.jl:47 [inlined]\n",
      "  [6] collect_to!\n",
      "    @ ./array.jl:782 [inlined]\n",
      "  [7] collect_to_with_first!\n",
      "    @ ./array.jl:760 [inlined]\n",
      "  [8] collect(itr::Base.Generator{Vector{String}, DataFrames.var\"#35#36\"{DataFrames.Index}})\n",
      "    @ Base ./array.jl:734\n",
      "  [9] getindex\n",
      "    @ ~/.julia/packages/DataFrames/BM4OQ/src/other/index.jl:407 [inlined]\n",
      " [10] getindex(df::DataFrame, row_ind::typeof(!), col_inds::Vector{String})\n",
      "    @ DataFrames ~/.julia/packages/DataFrames/BM4OQ/src/dataframe/dataframe.jl:598\n",
      " [11] top-level scope\n",
      "    @ /mnt/local_partition/Documents/src/julia/mine/TableDirectories/src/notebook.ipynb:1\n",
      " [12] eval\n",
      "    @ ./boot.jl:373 [inlined]\n",
      " [13] include_string(mapexpr::typeof(REPL.softscope), mod::Module, code::String, filename::String)\n",
      "    @ Base ./loading.jl:1196\n",
      " [14] #invokelatest#2\n",
      "    @ ./essentials.jl:716 [inlined]\n",
      " [15] invokelatest\n",
      "    @ ./essentials.jl:714 [inlined]\n",
      " [16] (::VSCodeServer.var\"#150#151\"{VSCodeServer.NotebookRunCellArguments, String})()\n",
      "    @ VSCodeServer ~/.vscode/extensions/julialang.language-julia-1.5.9/scripts/packages/VSCodeServer/src/serve_notebook.jl:18\n",
      " [17] withpath(f::VSCodeServer.var\"#150#151\"{VSCodeServer.NotebookRunCellArguments, String}, path::String)\n",
      "    @ VSCodeServer ~/.vscode/extensions/julialang.language-julia-1.5.9/scripts/packages/VSCodeServer/src/repl.jl:185\n",
      " [18] notebook_runcell_request(conn::VSCodeServer.JSONRPC.JSONRPCEndpoint{Base.PipeEndpoint, Base.PipeEndpoint}, params::VSCodeServer.NotebookRunCellArguments)\n",
      "    @ VSCodeServer ~/.vscode/extensions/julialang.language-julia-1.5.9/scripts/packages/VSCodeServer/src/serve_notebook.jl:14\n",
      " [19] dispatch_msg(x::VSCodeServer.JSONRPC.JSONRPCEndpoint{Base.PipeEndpoint, Base.PipeEndpoint}, dispatcher::VSCodeServer.JSONRPC.MsgDispatcher, msg::Dict{String, Any})\n",
      "    @ VSCodeServer.JSONRPC ~/.vscode/extensions/julialang.language-julia-1.5.9/scripts/packages/JSONRPC/src/typed.jl:67\n",
      " [20] serve_notebook(pipename::String; crashreporting_pipename::String)\n",
      "    @ VSCodeServer ~/.vscode/extensions/julialang.language-julia-1.5.9/scripts/packages/VSCodeServer/src/serve_notebook.jl:94\n",
      " [21] top-level scope\n",
      "    @ ~/.vscode/extensions/julialang.language-julia-1.5.9/scripts/notebook/notebook.jl:12\n",
      " [22] include(mod::Module, _path::String)\n",
      "    @ Base ./Base.jl:418\n",
      " [23] exec_options(opts::Base.JLOptions)\n",
      "    @ Base ./client.jl:292\n",
      " [24] _start()\n",
      "    @ Base ./client.jl:495"
     ]
    }
   ],
   "source": [
    "endpoint_data_frame[!, [\"driver\", \"bInterfaceClass\"]] # \"uevent\", , \"manufacturer\", \"product\""
   ]
  },
  {
   "cell_type": "code",
   "execution_count": 4,
   "id": "33c58f55",
   "metadata": {},
   "outputs": [
    {
     "data": {
      "text/plain": [
       "210-element Vector{Tuple{String, String}}:\n",
       " (\"/sys/dev/block/11:0\", \"../../devices/pci0000:00/0000:00:17.0/ata3/host2/target2:0:0/2:0:0:0/block/sr0\")\n",
       " (\"/sys/dev/block/7:0\", \"../../devices/virtual/block/loop0\")\n",
       " (\"/sys/dev/block/7:1\", \"../../devices/virtual/block/loop1\")\n",
       " (\"/sys/dev/block/7:2\", \"../../devices/virtual/block/loop2\")\n",
       " (\"/sys/dev/block/7:3\", \"../../devices/virtual/block/loop3\")\n",
       " (\"/sys/dev/block/7:4\", \"../../devices/virtual/block/loop4\")\n",
       " (\"/sys/dev/block/7:5\", \"../../devices/virtual/block/loop5\")\n",
       " (\"/sys/dev/block/7:6\", \"../../devices/virtual/block/loop6\")\n",
       " (\"/sys/dev/block/7:7\", \"../../devices/virtual/block/loop7\")\n",
       " (\"/sys/dev/block/8:0\", \"../../devices/pci0000:00/0000:00:17.0/ata1/host0/target0:0:0/0:0:0:0/block/sda\")\n",
       " ⋮\n",
       " (\"/sys/dev/char/7:5\", \"../../devices/virtual/vc/vcs5\")\n",
       " (\"/sys/dev/char/7:6\", \"../../devices/virtual/vc/vcs6\")\n",
       " (\"/sys/dev/char/7:64\", \"../../devices/virtual/vc/vcsu\")\n",
       " (\"/sys/dev/char/7:65\", \"../../devices/virtual/vc/vcsu1\")\n",
       " (\"/sys/dev/char/7:66\", \"../../devices/virtual/vc/vcsu2\")\n",
       " (\"/sys/dev/char/7:67\", \"../../devices/virtual/vc/vcsu3\")\n",
       " (\"/sys/dev/char/7:68\", \"../../devices/virtual/vc/vcsu4\")\n",
       " (\"/sys/dev/char/7:69\", \"../../devices/virtual/vc/vcsu5\")\n",
       " (\"/sys/dev/char/7:70\", \"../../devices/virtual/vc/vcsu6\")"
      ]
     },
     "metadata": {},
     "output_type": "display_data"
    }
   ],
   "source": [
    "using Glob\n",
    "devs = map(glob(glob\"*/*\", \"/sys/dev\")) do path\n",
    "    (path, readlink(path))\n",
    "end"
   ]
  },
  {
   "cell_type": "markdown",
   "id": "69838c6b",
   "metadata": {},
   "source": [
    "# Subsystems\n",
    "* how to avoid uplinks?"
   ]
  },
  {
   "cell_type": "code",
   "execution_count": 5,
   "id": "0204ffad",
   "metadata": {},
   "outputs": [
    {
     "ename": "UndefVarError",
     "evalue": "UndefVarError: find_all not defined",
     "output_type": "error",
     "traceback": [
      "UndefVarError: find_all not defined\n",
      "\n",
      "Stacktrace:\n",
      "  [1] top-level scope\n",
      "    @ /mnt/local_partition/Documents/src/julia/mine/TableDirectories/src/notebook.ipynb:6\n",
      "  [2] eval\n",
      "    @ ./boot.jl:373 [inlined]\n",
      "  [3] include_string(mapexpr::typeof(REPL.softscope), mod::Module, code::String, filename::String)\n",
      "    @ Base ./loading.jl:1196\n",
      "  [4] #invokelatest#2\n",
      "    @ ./essentials.jl:716 [inlined]\n",
      "  [5] invokelatest\n",
      "    @ ./essentials.jl:714 [inlined]\n",
      "  [6] (::VSCodeServer.var\"#150#151\"{VSCodeServer.NotebookRunCellArguments, String})()\n",
      "    @ VSCodeServer ~/.vscode/extensions/julialang.language-julia-1.5.9/scripts/packages/VSCodeServer/src/serve_notebook.jl:18\n",
      "  [7] withpath(f::VSCodeServer.var\"#150#151\"{VSCodeServer.NotebookRunCellArguments, String}, path::String)\n",
      "    @ VSCodeServer ~/.vscode/extensions/julialang.language-julia-1.5.9/scripts/packages/VSCodeServer/src/repl.jl:185\n",
      "  [8] notebook_runcell_request(conn::VSCodeServer.JSONRPC.JSONRPCEndpoint{Base.PipeEndpoint, Base.PipeEndpoint}, params::VSCodeServer.NotebookRunCellArguments)\n",
      "    @ VSCodeServer ~/.vscode/extensions/julialang.language-julia-1.5.9/scripts/packages/VSCodeServer/src/serve_notebook.jl:14\n",
      "  [9] dispatch_msg(x::VSCodeServer.JSONRPC.JSONRPCEndpoint{Base.PipeEndpoint, Base.PipeEndpoint}, dispatcher::VSCodeServer.JSONRPC.MsgDispatcher, msg::Dict{String, Any})\n",
      "    @ VSCodeServer.JSONRPC ~/.vscode/extensions/julialang.language-julia-1.5.9/scripts/packages/JSONRPC/src/typed.jl:67\n",
      " [10] serve_notebook(pipename::String; crashreporting_pipename::String)\n",
      "    @ VSCodeServer ~/.vscode/extensions/julialang.language-julia-1.5.9/scripts/packages/VSCodeServer/src/serve_notebook.jl:94\n",
      " [11] top-level scope\n",
      "    @ ~/.vscode/extensions/julialang.language-julia-1.5.9/scripts/notebook/notebook.jl:12\n",
      " [12] include(mod::Module, _path::String)\n",
      "    @ Base ./Base.jl:418\n",
      " [13] exec_options(opts::Base.JLOptions)\n",
      "    @ Base ./client.jl:292\n",
      " [14] _start()\n",
      "    @ Base ./client.jl:495"
     ]
    }
   ],
   "source": [
    "\n",
    "using Glob\n",
    "rows = map(union(glob(glob\"*/subsystem\", \"/sys/devices\"), union(glob(glob\"*/*/subsystem\", \"/sys/devices\")), union(glob(glob\"*/*/*/subsystem\", \"/sys/devices\")), union(glob(glob\"*/*/*/*/subsystem\", \"/sys/devices\")))) do path\n",
    "    (path, readlink(path))\n",
    "end\n",
    "find_all(\"/sys/devices\", \"subsystem\")"
   ]
  },
  {
   "cell_type": "code",
   "execution_count": 6,
   "id": "2d98cc52",
   "metadata": {},
   "outputs": [
    {
     "ename": "ProcessFailedException",
     "evalue": "failed process: Process(`find /sys -name subsystem -ls`, ProcessExited(1)) [1]\n",
     "output_type": "error",
     "traceback": [
      "failed process: Process(`find /sys -name subsystem -ls`, ProcessExited(1)) [1]\n",
      "\n",
      "\n",
      "Stacktrace:\n",
      "  [1] pipeline_error\n",
      "    @ ./process.jl:531 [inlined]\n",
      "  [2] (::Base.var\"#697#698\"{Base.Process})()\n",
      "    @ Base ./process.jl:320\n",
      "  [3] iterate(itr::Base.EachLine{Base.PipeEndpoint}, state::Nothing)\n",
      "    @ Base ./io.jl:1019\n",
      "  [4] _collect(cont::UnitRange{Int64}, itr::Base.EachLine{Base.PipeEndpoint}, #unused#::Base.HasEltype, isz::Base.SizeUnknown)\n",
      "    @ Base ./array.jl:661\n",
      "  [5] collect\n",
      "    @ ./array.jl:649 [inlined]\n",
      "  [6] #readlines#378\n",
      "    @ ./io.jl:553 [inlined]\n",
      "  [7] readlines(s::Cmd)\n",
      "    @ Base ./io.jl:553\n",
      "  [8] top-level scope\n",
      "    @ /mnt/local_partition/Documents/src/julia/mine/TableDirectories/src/notebook.ipynb:1\n",
      "  [9] eval\n",
      "    @ ./boot.jl:373 [inlined]\n",
      " [10] include_string(mapexpr::typeof(REPL.softscope), mod::Module, code::String, filename::String)\n",
      "    @ Base ./loading.jl:1196\n",
      " [11] #invokelatest#2\n",
      "    @ ./essentials.jl:716 [inlined]\n",
      " [12] invokelatest\n",
      "    @ ./essentials.jl:714 [inlined]\n",
      " [13] (::VSCodeServer.var\"#150#151\"{VSCodeServer.NotebookRunCellArguments, String})()\n",
      "    @ VSCodeServer ~/.vscode/extensions/julialang.language-julia-1.5.9/scripts/packages/VSCodeServer/src/serve_notebook.jl:18\n",
      " [14] withpath(f::VSCodeServer.var\"#150#151\"{VSCodeServer.NotebookRunCellArguments, String}, path::String)\n",
      "    @ VSCodeServer ~/.vscode/extensions/julialang.language-julia-1.5.9/scripts/packages/VSCodeServer/src/repl.jl:185\n",
      " [15] notebook_runcell_request(conn::VSCodeServer.JSONRPC.JSONRPCEndpoint{Base.PipeEndpoint, Base.PipeEndpoint}, params::VSCodeServer.NotebookRunCellArguments)\n",
      "    @ VSCodeServer ~/.vscode/extensions/julialang.language-julia-1.5.9/scripts/packages/VSCodeServer/src/serve_notebook.jl:14\n",
      " [16] dispatch_msg(x::VSCodeServer.JSONRPC.JSONRPCEndpoint{Base.PipeEndpoint, Base.PipeEndpoint}, dispatcher::VSCodeServer.JSONRPC.MsgDispatcher, msg::Dict{String, Any})\n",
      "    @ VSCodeServer.JSONRPC ~/.vscode/extensions/julialang.language-julia-1.5.9/scripts/packages/JSONRPC/src/typed.jl:67\n",
      " [17] serve_notebook(pipename::String; crashreporting_pipename::String)\n",
      "    @ VSCodeServer ~/.vscode/extensions/julialang.language-julia-1.5.9/scripts/packages/VSCodeServer/src/serve_notebook.jl:94\n",
      " [18] top-level scope\n",
      "    @ ~/.vscode/extensions/julialang.language-julia-1.5.9/scripts/notebook/notebook.jl:12\n",
      " [19] include(mod::Module, _path::String)\n",
      "    @ Base ./Base.jl:418\n",
      " [20] exec_options(opts::Base.JLOptions)\n",
      "    @ Base ./client.jl:292\n",
      " [21] _start()\n",
      "    @ Base ./client.jl:495"
     ]
    }
   ],
   "source": [
    "subsystems = map(readlines(`find /sys -name subsystem -ls`)) do line\n",
    "    link = line[60:end]\n",
    "    split(link, \" -> \")\n",
    "end"
   ]
  }
 ],
 "metadata": {
  "kernelspec": {
   "display_name": "Julia 1.7.0",
   "language": "julia",
   "name": "julia-1.7"
  },
  "language_info": {
   "file_extension": ".jl",
   "mimetype": "application/julia",
   "name": "julia",
   "version": "1.7.0"
  }
 },
 "nbformat": 4,
 "nbformat_minor": 5
}
