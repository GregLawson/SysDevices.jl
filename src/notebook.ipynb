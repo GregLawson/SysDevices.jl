{
 "cells": [
  {
   "cell_type": "markdown",
   "id": "bc74b84e",
   "metadata": {},
   "source": [
    "# Device discovery in the Linux /sys directory\n",
    "* [man file formats and filesystems(5)](https://manpages.debian.org/bullseye/manpages/intro.5.en.html)\n",
    "* [man sysfs.5](https://manpages.debian.org/bullseye/manpages/sysfs.5.en.html)\n",
    "  * The files under sysfs provide information about devices, kernel modules, filesystems, and other kernel components.\n",
    "  * The sysfs filesystem first appeared in Linux 2.6.0.\n",
    "* [man proc filesystem](https://manpages.debian.org/bullseye/manpages/proc.5.en.html)\n",
    "* [man udev](https://manpages.debian.org/bullseye/udev/udev.7.en.html)"
   ]
  },
  {
   "cell_type": "code",
   "execution_count": 26,
   "id": "4d416c18",
   "metadata": {},
   "outputs": [
    {
     "name": "stdout",
     "output_type": "stream",
     "text": [
      "live_usb_devices[!, [\"devnum\", \"devpath\", \"dev\", \"port\"]] = 7×4 DataFrame\n",
      " Row │ devnum     devpath    dev        port\n",
      "     │ SubStrin…  SubStrin…  SubStrin…  String\n",
      "─────┼──────────────────────────────────────────────\n",
      "   1 │ 2          1          189:1      usb1-port1\n",
      "   2 │ 12         14         189:11     usb1-port14\n",
      "   3 │ 3          2          189:2      usb1-port2\n",
      "   4 │ 4          6          189:3      usb1-port6\n",
      "   5 │ 6          7          189:5      usb1-port7\n",
      "   6 │ 8          8          189:7      usb1-port8\n",
      "   7 │ 10         9          189:9      usb1-port9\n"
     ]
    },
    {
     "name": "stderr",
     "output_type": "stream",
     "text": [
      "find: ‘/sys/kernel/tracing’: Permission denied\n",
      "find: ‘/sys/kernel/debug’: Permission denied\n",
      "find: ‘/sys/fs/pstore’: Permission denied\n",
      "find: ‘/sys/fs/bpf’: Permission denied\n",
      "find: ‘/sys/kernel/tracing’: Permission denied\n",
      "find: ‘/sys/kernel/debug’: Permission denied\n",
      "find: ‘/sys/fs/pstore’: Permission denied\n",
      "find: ‘/sys/fs/bpf’: Permission denied\n",
      "WARNING: replacing module TableDirectories.\n"
     ]
    },
    {
     "data": {
      "text/html": [
       "<div class=\"data-frame\"><p>7 rows × 4 columns</p><table class=\"data-frame\"><thead><tr><th></th><th>devnum</th><th>devpath</th><th>dev</th><th>port</th></tr><tr><th></th><th title=\"SubString{String}\">SubStrin…</th><th title=\"SubString{String}\">SubStrin…</th><th title=\"SubString{String}\">SubStrin…</th><th title=\"String\">String</th></tr></thead><tbody><tr><th>1</th><td>2</td><td>1</td><td>189:1</td><td>usb1-port1</td></tr><tr><th>2</th><td>12</td><td>14</td><td>189:11</td><td>usb1-port14</td></tr><tr><th>3</th><td>3</td><td>2</td><td>189:2</td><td>usb1-port2</td></tr><tr><th>4</th><td>4</td><td>6</td><td>189:3</td><td>usb1-port6</td></tr><tr><th>5</th><td>6</td><td>7</td><td>189:5</td><td>usb1-port7</td></tr><tr><th>6</th><td>8</td><td>8</td><td>189:7</td><td>usb1-port8</td></tr><tr><th>7</th><td>10</td><td>9</td><td>189:9</td><td>usb1-port9</td></tr></tbody></table></div>"
      ],
      "text/latex": [
       "\\begin{tabular}{r|cccc}\n",
       "\t& devnum & devpath & dev & port\\\\\n",
       "\t\\hline\n",
       "\t& SubStrin… & SubStrin… & SubStrin… & String\\\\\n",
       "\t\\hline\n",
       "\t1 & 2 & 1 & 189:1 & usb1-port1 \\\\\n",
       "\t2 & 12 & 14 & 189:11 & usb1-port14 \\\\\n",
       "\t3 & 3 & 2 & 189:2 & usb1-port2 \\\\\n",
       "\t4 & 4 & 6 & 189:3 & usb1-port6 \\\\\n",
       "\t5 & 6 & 7 & 189:5 & usb1-port7 \\\\\n",
       "\t6 & 8 & 8 & 189:7 & usb1-port8 \\\\\n",
       "\t7 & 10 & 9 & 189:9 & usb1-port9 \\\\\n",
       "\\end{tabular}\n"
      ],
      "text/plain": [
       "\u001b[1m7×4 DataFrame\u001b[0m\n",
       "\u001b[1m Row \u001b[0m│\u001b[1m devnum    \u001b[0m\u001b[1m devpath   \u001b[0m\u001b[1m dev       \u001b[0m\u001b[1m port        \u001b[0m\n",
       "\u001b[1m     \u001b[0m│\u001b[90m SubStrin… \u001b[0m\u001b[90m SubStrin… \u001b[0m\u001b[90m SubStrin… \u001b[0m\u001b[90m String      \u001b[0m\n",
       "─────┼──────────────────────────────────────────────\n",
       "   1 │ 2          1          189:1      usb1-port1\n",
       "   2 │ 12         14         189:11     usb1-port14\n",
       "   3 │ 3          2          189:2      usb1-port2\n",
       "   4 │ 4          6          189:3      usb1-port6\n",
       "   5 │ 6          7          189:5      usb1-port7\n",
       "   6 │ 8          8          189:7      usb1-port8\n",
       "   7 │ 10         9          189:9      usb1-port9"
      ]
     },
     "metadata": {},
     "output_type": "display_data"
    }
   ],
   "source": [
    "include(joinpath(@__DIR__, \"example_data.jl\"))"
   ]
  },
  {
   "cell_type": "code",
   "execution_count": 27,
   "id": "910e5882",
   "metadata": {},
   "outputs": [
    {
     "data": {
      "text/plain": [
       "12-element Vector{Vector{SubString{String}}}:\n",
       " [\"usb1\", \"1-9\", \"port -> ..\", \"1-0:1.0\", \"usb1-port9\"]\n",
       " [\"usb1\", \"1-14\", \"port -> ..\", \"1-0:1.0\", \"usb1-port14\"]\n",
       " [\"usb1\", \"1-7\", \"port -> ..\", \"1-0:1.0\", \"usb1-port7\"]\n",
       " [\"usb1\", \"1-1\", \"port -> ..\", \"1-0:1.0\", \"usb1-port1\"]\n",
       " [\"usb1\", \"1-8\", \"port -> ..\", \"1-0:1.0\", \"usb1-port8\"]\n",
       " [\"usb1\", \"1-6\", \"port -> ..\", \"1-0:1.0\", \"usb1-port6\"]\n",
       " [\"usb1\", \"1-6\", \"1-6.2\", \"port -> ..\", \"1-6:1.0\", \"1-6-port2\"]\n",
       " [\"usb1\", \"1-6\", \"1-6.3\", \"port -> ..\", \"1-6:1.0\", \"1-6-port3\"]\n",
       " [\"usb1\", \"1-6\", \"1-6.1\", \"port -> ..\", \"1-6:1.0\", \"1-6-port1\"]\n",
       " [\"usb1\", \"1-2\", \"1-2.1\", \"port -> ..\", \"1-2:1.0\", \"1-2-port1\"]\n",
       " [\"usb1\", \"1-2\", \"port -> ..\", \"1-0:1.0\", \"usb1-port2\"]\n",
       " [\"usb1\", \"1-2\", \"1-2.2\", \"port -> ..\", \"1-2:1.0\", \"1-2-port2\"]"
      ]
     },
     "metadata": {},
     "output_type": "display_data"
    }
   ],
   "source": [
    "using Test\n",
    "ports = map(readlines(`find /sys/devices/pci0000\\:00/0000\\:00\\:14.0/ -name port -ls`)) do line\n",
    "    parts = split(line[110:end], \"/\")\n",
    "    bus, insertion = split(parts[2], \"-\")\n",
    "    @test bus ==  parts[1][4:4]\n",
    "    #@test bus == parts[4][1:1]\n",
    "    @test bus == parts[2][1:1]\n",
    "    parts\n",
    "end"
   ]
  },
  {
   "cell_type": "code",
   "execution_count": 28,
   "id": "33c58f55",
   "metadata": {},
   "outputs": [
    {
     "data": {
      "text/plain": [
       "217-element Vector{Tuple{String, String}}:\n",
       " (\"/sys/dev/block/11:0\", \"../../devices/pci0000:00/0000:00:17.0/ata3/host2/target2:0:0/2:0:0:0/block/sr0\")\n",
       " (\"/sys/dev/block/7:0\", \"../../devices/virtual/block/loop0\")\n",
       " (\"/sys/dev/block/7:1\", \"../../devices/virtual/block/loop1\")\n",
       " (\"/sys/dev/block/7:2\", \"../../devices/virtual/block/loop2\")\n",
       " (\"/sys/dev/block/7:3\", \"../../devices/virtual/block/loop3\")\n",
       " (\"/sys/dev/block/7:4\", \"../../devices/virtual/block/loop4\")\n",
       " (\"/sys/dev/block/7:5\", \"../../devices/virtual/block/loop5\")\n",
       " (\"/sys/dev/block/7:6\", \"../../devices/virtual/block/loop6\")\n",
       " (\"/sys/dev/block/7:7\", \"../../devices/virtual/block/loop7\")\n",
       " (\"/sys/dev/block/8:0\", \"../../devices/pci0000:00/0000:00:17.0/ata1/host0/target0:0:0/0:0:0:0/block/sda\")\n",
       " ⋮\n",
       " (\"/sys/dev/char/7:5\", \"../../devices/virtual/vc/vcs5\")\n",
       " (\"/sys/dev/char/7:6\", \"../../devices/virtual/vc/vcs6\")\n",
       " (\"/sys/dev/char/7:64\", \"../../devices/virtual/vc/vcsu\")\n",
       " (\"/sys/dev/char/7:65\", \"../../devices/virtual/vc/vcsu1\")\n",
       " (\"/sys/dev/char/7:66\", \"../../devices/virtual/vc/vcsu2\")\n",
       " (\"/sys/dev/char/7:67\", \"../../devices/virtual/vc/vcsu3\")\n",
       " (\"/sys/dev/char/7:68\", \"../../devices/virtual/vc/vcsu4\")\n",
       " (\"/sys/dev/char/7:69\", \"../../devices/virtual/vc/vcsu5\")\n",
       " (\"/sys/dev/char/7:70\", \"../../devices/virtual/vc/vcsu6\")"
      ]
     },
     "metadata": {},
     "output_type": "display_data"
    }
   ],
   "source": [
    "using Glob\n",
    "devs = map(glob(glob\"*/*\", \"/sys/dev\")) do path\n",
    "    (path, readlink(path))\n",
    "end"
   ]
  },
  {
   "cell_type": "markdown",
   "id": "69838c6b",
   "metadata": {},
   "source": [
    "# Subsystems\n",
    "* how to avoid uplinks?"
   ]
  },
  {
   "cell_type": "code",
   "execution_count": 29,
   "id": "0204ffad",
   "metadata": {},
   "outputs": [
    {
     "data": {
      "text/plain": [
       "27-element Vector{Union{Nothing, String}}:\n",
       " nothing\n",
       " nothing\n",
       " nothing\n",
       " nothing\n",
       " nothing\n",
       " nothing\n",
       " nothing\n",
       " nothing\n",
       " nothing\n",
       " nothing\n",
       " ⋮\n",
       " nothing\n",
       " nothing\n",
       " nothing\n",
       " nothing\n",
       " nothing\n",
       " nothing\n",
       " nothing\n",
       " nothing\n",
       " nothing"
      ]
     },
     "metadata": {},
     "output_type": "display_data"
    }
   ],
   "source": [
    "\n",
    "using Glob\n",
    "rows = map(union(glob(glob\"*/subsystem\", \"/sys/devices\"), union(glob(glob\"*/*/subsystem\", \"/sys/devices\")), union(glob(glob\"*/*/*/subsystem\", \"/sys/devices\")), union(glob(glob\"*/*/*/*/subsystem\", \"/sys/devices\")))) do path\n",
    "    (path, readlink(path))\n",
    "end\n",
    "TableDirectories.find_all(\"/sys/devices\", \"subsystem\")"
   ]
  }
 ],
 "metadata": {
  "kernelspec": {
   "display_name": "Julia 1.7.0",
   "language": "julia",
   "name": "julia-1.7"
  },
  "language_info": {
   "file_extension": ".jl",
   "mimetype": "application/julia",
   "name": "julia",
   "version": "1.7.0"
  }
 },
 "nbformat": 4,
 "nbformat_minor": 5
}
