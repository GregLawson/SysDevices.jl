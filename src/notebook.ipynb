{
 "cells": [
  {
   "cell_type": "markdown",
   "id": "bc74b84e",
   "metadata": {},
   "source": [
    "# Device discovery in the Linux /sys directory\n",
    "* [man file formats and filesystems(5)](https://manpages.debian.org/bullseye/manpages/intro.5.en.html)\n",
    "* [man sysfs.5](https://manpages.debian.org/bullseye/manpages/sysfs.5.en.html)\n",
    "  * The files under sysfs provide information about devices, kernel modules, filesystems, and other kernel components.\n",
    "  * The sysfs filesystem first appeared in Linux 2.6.0.\n",
    "* [man proc filesystem](https://manpages.debian.org/bullseye/manpages/proc.5.en.html)\n",
    "* [man udev](https://manpages.debian.org/bullseye/udev/udev.7.en.html)"
   ]
  },
  {
   "cell_type": "code",
   "execution_count": 1,
   "id": "4d416c18",
   "metadata": {},
   "outputs": [
    {
     "data": {
      "text/plain": [
       "Main.Template"
      ]
     },
     "metadata": {},
     "output_type": "display_data"
    }
   ],
   "source": [
    "include(joinpath(@__DIR__, \"example_data.jl\"))"
   ]
  },
  {
   "cell_type": "code",
   "execution_count": 9,
   "id": "33c58f55",
   "metadata": {},
   "outputs": [
    {
     "data": {
      "text/plain": [
       "206-element Vector{Tuple{String, String}}:\n",
       " (\"/sys/dev/block/11:0\", \"../../devices/pci0000:00/0000:00:17.0/ata3/host2/target2:0:0/2:0:0:0/block/sr0\")\n",
       " (\"/sys/dev/block/7:0\", \"../../devices/virtual/block/loop0\")\n",
       " (\"/sys/dev/block/7:1\", \"../../devices/virtual/block/loop1\")\n",
       " (\"/sys/dev/block/7:2\", \"../../devices/virtual/block/loop2\")\n",
       " (\"/sys/dev/block/7:3\", \"../../devices/virtual/block/loop3\")\n",
       " (\"/sys/dev/block/7:4\", \"../../devices/virtual/block/loop4\")\n",
       " (\"/sys/dev/block/7:5\", \"../../devices/virtual/block/loop5\")\n",
       " (\"/sys/dev/block/7:6\", \"../../devices/virtual/block/loop6\")\n",
       " (\"/sys/dev/block/7:7\", \"../../devices/virtual/block/loop7\")\n",
       " (\"/sys/dev/block/8:0\", \"../../devices/pci0000:00/0000:00:17.0/ata1/host0/target0:0:0/0:0:0:0/block/sda\")\n",
       " ⋮\n",
       " (\"/sys/dev/char/7:5\", \"../../devices/virtual/vc/vcs5\")\n",
       " (\"/sys/dev/char/7:6\", \"../../devices/virtual/vc/vcs6\")\n",
       " (\"/sys/dev/char/7:64\", \"../../devices/virtual/vc/vcsu\")\n",
       " (\"/sys/dev/char/7:65\", \"../../devices/virtual/vc/vcsu1\")\n",
       " (\"/sys/dev/char/7:66\", \"../../devices/virtual/vc/vcsu2\")\n",
       " (\"/sys/dev/char/7:67\", \"../../devices/virtual/vc/vcsu3\")\n",
       " (\"/sys/dev/char/7:68\", \"../../devices/virtual/vc/vcsu4\")\n",
       " (\"/sys/dev/char/7:69\", \"../../devices/virtual/vc/vcsu5\")\n",
       " (\"/sys/dev/char/7:70\", \"../../devices/virtual/vc/vcsu6\")"
      ]
     },
     "metadata": {},
     "output_type": "display_data"
    }
   ],
   "source": [
    "using Glob\n",
    "devs = map(glob(glob\"*/*\", \"/sys/dev\")) do path\n",
    "    (path, readlink(path))\n",
    "end"
   ]
  },
  {
   "cell_type": "markdown",
   "id": "69838c6b",
   "metadata": {},
   "source": [
    "# Subsystems\n",
    "* how to avoid uplinks?"
   ]
  },
  {
   "cell_type": "code",
   "execution_count": 17,
   "id": "0204ffad",
   "metadata": {},
   "outputs": [
    {
     "data": {
      "text/plain": [
       "27-element Vector{Union{Nothing, String}}:\n",
       " nothing\n",
       " nothing\n",
       " nothing\n",
       " nothing\n",
       " nothing\n",
       " nothing\n",
       " nothing\n",
       " nothing\n",
       " nothing\n",
       " nothing\n",
       " ⋮\n",
       " nothing\n",
       " nothing\n",
       " nothing\n",
       " nothing\n",
       " nothing\n",
       " nothing\n",
       " nothing\n",
       " nothing\n",
       " nothing"
      ]
     },
     "metadata": {},
     "output_type": "display_data"
    }
   ],
   "source": [
    "\n",
    "using Glob\n",
    "rows = map(union(glob(glob\"*/subsystem\", \"/sys/devices\"), union(glob(glob\"*/*/subsystem\", \"/sys/devices\")), union(glob(glob\"*/*/*/subsystem\", \"/sys/devices\")), union(glob(glob\"*/*/*/*/subsystem\", \"/sys/devices\")))) do path\n",
    "    (path, readlink(path))\n",
    "end\n",
    "find_all(\"/sys/devices\", \"subsystem\")"
   ]
  },
  {
   "cell_type": "code",
   "execution_count": 2,
   "id": "2d98cc52",
   "metadata": {},
   "outputs": [
    {
     "ename": "ProcessFailedException",
     "evalue": "failed process: Process(`find /sys -name subsystem -ls`, ProcessExited(1)) [1]\n",
     "output_type": "error",
     "traceback": [
      "failed process: Process(`find /sys -name subsystem -ls`, ProcessExited(1)) [1]\n",
      "\n",
      "\n",
      "Stacktrace:\n",
      "  [1] pipeline_error\n",
      "    @ ./process.jl:531 [inlined]\n",
      "  [2] (::Base.var\"#697#698\"{Base.Process})()\n",
      "    @ Base ./process.jl:320\n",
      "  [3] iterate(itr::Base.EachLine{Base.PipeEndpoint}, state::Nothing)\n",
      "    @ Base ./io.jl:1019\n",
      "  [4] _collect(cont::UnitRange{Int64}, itr::Base.EachLine{Base.PipeEndpoint}, #unused#::Base.HasEltype, isz::Base.SizeUnknown)\n",
      "    @ Base ./array.jl:661\n",
      "  [5] collect\n",
      "    @ ./array.jl:649 [inlined]\n",
      "  [6] #readlines#378\n",
      "    @ ./io.jl:553 [inlined]\n",
      "  [7] readlines(s::Cmd)\n",
      "    @ Base ./io.jl:553\n",
      "  [8] top-level scope\n",
      "    @ /mnt/local_partition/Documents/src/julia/mine/TableDirectories/src/notebook.ipynb:1\n",
      "  [9] eval\n",
      "    @ ./boot.jl:373 [inlined]\n",
      " [10] include_string(mapexpr::typeof(REPL.softscope), mod::Module, code::String, filename::String)\n",
      "    @ Base ./loading.jl:1196\n",
      " [11] #invokelatest#2\n",
      "    @ ./essentials.jl:716 [inlined]\n",
      " [12] invokelatest\n",
      "    @ ./essentials.jl:714 [inlined]\n",
      " [13] (::VSCodeServer.var\"#150#151\"{VSCodeServer.NotebookRunCellArguments, String})()\n",
      "    @ VSCodeServer ~/.vscode/extensions/julialang.language-julia-1.5.8/scripts/packages/VSCodeServer/src/serve_notebook.jl:18\n",
      " [14] withpath(f::VSCodeServer.var\"#150#151\"{VSCodeServer.NotebookRunCellArguments, String}, path::String)\n",
      "    @ VSCodeServer ~/.vscode/extensions/julialang.language-julia-1.5.8/scripts/packages/VSCodeServer/src/repl.jl:185\n",
      " [15] notebook_runcell_request(conn::VSCodeServer.JSONRPC.JSONRPCEndpoint{Base.PipeEndpoint, Base.PipeEndpoint}, params::VSCodeServer.NotebookRunCellArguments)\n",
      "    @ VSCodeServer ~/.vscode/extensions/julialang.language-julia-1.5.8/scripts/packages/VSCodeServer/src/serve_notebook.jl:14\n",
      " [16] dispatch_msg(x::VSCodeServer.JSONRPC.JSONRPCEndpoint{Base.PipeEndpoint, Base.PipeEndpoint}, dispatcher::VSCodeServer.JSONRPC.MsgDispatcher, msg::Dict{String, Any})\n",
      "    @ VSCodeServer.JSONRPC ~/.vscode/extensions/julialang.language-julia-1.5.8/scripts/packages/JSONRPC/src/typed.jl:67\n",
      " [17] serve_notebook(pipename::String; crashreporting_pipename::String)\n",
      "    @ VSCodeServer ~/.vscode/extensions/julialang.language-julia-1.5.8/scripts/packages/VSCodeServer/src/serve_notebook.jl:94\n",
      " [18] top-level scope\n",
      "    @ ~/.vscode/extensions/julialang.language-julia-1.5.8/scripts/notebook/notebook.jl:12\n",
      " [19] include(mod::Module, _path::String)\n",
      "    @ Base ./Base.jl:418\n",
      " [20] exec_options(opts::Base.JLOptions)\n",
      "    @ Base ./client.jl:292\n",
      " [21] _start()\n",
      "    @ Base ./client.jl:495"
     ]
    }
   ],
   "source": [
    "subsystems = map(readlines(`find /sys -name subsystem -ls`)) do line\n",
    "    link = line[60:end]\n",
    "    split(link, \" -> \")\n",
    "end"
   ]
  }
 ],
 "metadata": {
  "kernelspec": {
   "display_name": "Julia 1.7.0",
   "language": "julia",
   "name": "julia-1.7"
  },
  "language_info": {
   "file_extension": ".jl",
   "mimetype": "application/julia",
   "name": "julia",
   "version": "1.7.0"
  }
 },
 "nbformat": 4,
 "nbformat_minor": 5
}
